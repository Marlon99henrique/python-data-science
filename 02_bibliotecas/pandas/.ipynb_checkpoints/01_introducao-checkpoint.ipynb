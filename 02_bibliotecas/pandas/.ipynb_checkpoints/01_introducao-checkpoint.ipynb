{
 "cells": [
  {
   "cell_type": "markdown",
   "id": "92bae88c-5cfe-451b-935a-741bce8ee064",
   "metadata": {},
   "source": [
    "# 📊 Introdução ao Pandas\n",
    "\n",
    "Este notebook apresenta exemplos práticos de criação e manipulação de **Series** e **DataFrames** com a biblioteca Pandas.  \n",
    "O objetivo é **demonstrar habilidades em operações fundamentais** que servem de base para análises de dados mais complexas.\n",
    "\n",
    "---\n",
    "## 1. Criação de Estruturas de Dados"
   ]
  },
  {
   "cell_type": "code",
   "execution_count": 2,
   "id": "c3b66caa-3686-40d0-bd3c-1e28e4ab21ee",
   "metadata": {},
   "outputs": [
    {
     "name": "stdout",
     "output_type": "stream",
     "text": [
      "A    10\n",
      "B    20\n",
      "C    30\n",
      "dtype: int64\n",
      "    Produto  Preço  Estoque\n",
      "0  Notebook   3500       12\n",
      "1     Mouse     80      200\n",
      "2   Teclado    120      150\n"
     ]
    }
   ],
   "source": [
    "import pandas as pd\n",
    "\n",
    "# Criando uma Series\n",
    "series = pd.Series([10, 20, 30], index=[\"A\", \"B\", \"C\"])\n",
    "print(series)\n",
    "\n",
    "# Criando um DataFrame\n",
    "data = {\n",
    "    \"Produto\": [\"Notebook\", \"Mouse\", \"Teclado\"],\n",
    "    \"Preço\": [3500, 80, 120],\n",
    "    \"Estoque\": [12, 200, 150]\n",
    "}\n",
    "df = pd.DataFrame(data)\n",
    "print(df)"
   ]
  },
  {
   "cell_type": "markdown",
   "id": "559ab685-16d3-4fbd-a688-886a773fb40d",
   "metadata": {},
   "source": [
    "## 2. Seleção e Filtragem"
   ]
  },
  {
   "cell_type": "code",
   "execution_count": 3,
   "id": "2ccfbe39-e701-4488-971b-df044bbd8261",
   "metadata": {},
   "outputs": [
    {
     "name": "stdout",
     "output_type": "stream",
     "text": [
      "0    Notebook\n",
      "1       Mouse\n",
      "2     Teclado\n",
      "Name: Produto, dtype: object\n",
      "    Produto  Preço\n",
      "0  Notebook   3500\n",
      "1     Mouse     80\n",
      "2   Teclado    120\n",
      "    Produto  Preço  Estoque\n",
      "0  Notebook   3500       12\n",
      "2   Teclado    120      150\n"
     ]
    }
   ],
   "source": [
    "# Selecionando coluna\n",
    "print(df[\"Produto\"])\n",
    "\n",
    "# Selecionando múltiplas colunas\n",
    "print(df[[\"Produto\", \"Preço\"]])\n",
    "\n",
    "# Filtrando linhas\n",
    "filtro = df[df[\"Preço\"] > 100]\n",
    "print(filtro)\n"
   ]
  },
  {
   "cell_type": "markdown",
   "id": "037b6416-da4f-47c4-a0e1-332e0111ae59",
   "metadata": {},
   "source": [
    "## 3. Estatísticas Descritivas"
   ]
  },
  {
   "cell_type": "code",
   "execution_count": 4,
   "id": "05554ce2-5f56-410d-851a-1d20cea80938",
   "metadata": {},
   "outputs": [
    {
     "name": "stdout",
     "output_type": "stream",
     "text": [
      "1233.3333333333333\n",
      "362\n",
      "             Preço     Estoque\n",
      "count     3.000000    3.000000\n",
      "mean   1233.333333  120.666667\n",
      "std    1963.092798   97.372138\n",
      "min      80.000000   12.000000\n",
      "25%     100.000000   81.000000\n",
      "50%     120.000000  150.000000\n",
      "75%    1810.000000  175.000000\n",
      "max    3500.000000  200.000000\n"
     ]
    }
   ],
   "source": [
    "# Estatísticas básicas\n",
    "print(df[\"Preço\"].mean())   # Média\n",
    "print(df[\"Estoque\"].sum())  # Soma\n",
    "\n",
    "# Descrição geral\n",
    "print(df.describe())\n"
   ]
  },
  {
   "cell_type": "markdown",
   "id": "dab09075-44d5-41b6-9da1-3c230276f543",
   "metadata": {},
   "source": [
    "## 4. Operações de Transformação"
   ]
  },
  {
   "cell_type": "code",
   "execution_count": 5,
   "id": "c8327b06-5d93-4a52-ae44-55a85007886a",
   "metadata": {},
   "outputs": [
    {
     "name": "stdout",
     "output_type": "stream",
     "text": [
      "    Produto  Preço  Estoque  Valor Total  Preço Ajustado\n",
      "0  Notebook   3500       12        42000          3850.0\n",
      "1     Mouse     80      200        16000            88.0\n",
      "2   Teclado    120      150        18000           132.0\n"
     ]
    }
   ],
   "source": [
    "# Criando coluna derivada\n",
    "df[\"Valor Total\"] = df[\"Preço\"] * df[\"Estoque\"]\n",
    "\n",
    "# Aplicando função com apply\n",
    "df[\"Preço Ajustado\"] = df[\"Preço\"].apply(lambda x: x * 1.1)\n",
    "\n",
    "print(df)\n"
   ]
  },
  {
   "cell_type": "markdown",
   "id": "1aa9dd5a-3d0a-4364-818f-8863d462bc7e",
   "metadata": {},
   "source": [
    "## 🎯 Conclusão\n",
    "\n",
    "Este notebook mostra domínio das operações fundamentais do Pandas:  \n",
    "- Criação de Series e DataFrames  \n",
    "- Seleção e filtragem de dados  \n",
    "- Estatísticas descritivas  \n",
    "- Transformações e criação de colunas derivadas\n",
    "\n",
    "Esses recursos são utilizados diariamente em tarefas de **pré-processamento de dados**  e **análise exploratória**, essenciais em projetos de Ciência de Dados."
   ]
  },
  {
   "cell_type": "code",
   "execution_count": null,
   "id": "1fabf548-e014-4b89-9b96-79b5398808fa",
   "metadata": {},
   "outputs": [],
   "source": []
  }
 ],
 "metadata": {
  "kernelspec": {
   "display_name": "Python [conda env:base] *",
   "language": "python",
   "name": "conda-base-py"
  },
  "language_info": {
   "codemirror_mode": {
    "name": "ipython",
    "version": 3
   },
   "file_extension": ".py",
   "mimetype": "text/x-python",
   "name": "python",
   "nbconvert_exporter": "python",
   "pygments_lexer": "ipython3",
   "version": "3.12.7"
  }
 },
 "nbformat": 4,
 "nbformat_minor": 5
}
