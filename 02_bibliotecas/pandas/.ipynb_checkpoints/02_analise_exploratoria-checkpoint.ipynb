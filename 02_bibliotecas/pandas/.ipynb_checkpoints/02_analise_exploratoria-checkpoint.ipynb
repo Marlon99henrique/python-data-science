{
 "cells": [
  {
   "cell_type": "markdown",
   "id": "e4542bc1-0442-4d05-bc0a-97dfaee84a3b",
   "metadata": {},
   "source": [
    "# 📊 Análise Exploratória de Dados com Pandas\n",
    "\n",
    "Este notebook demonstra uma **Análise Exploratória de Dados (EDA)** aplicada ao dataset **Iris**, clássico em Machine Learning.  \n",
    "O objetivo é **mostrar domínio prático em manipulação, exploração e sumarização de dados**, etapa fundamental em qualquer projeto de Ciência de Dados.  \n",
    "\n",
    "---\n",
    "\n",
    "## 1. Carregamento e Visão Geral"
   ]
  },
  {
   "cell_type": "code",
   "execution_count": 3,
   "id": "51411612-e272-4c14-94c8-f7174c72a654",
   "metadata": {},
   "outputs": [
    {
     "name": "stdout",
     "output_type": "stream",
     "text": [
      "   sepal length (cm)  sepal width (cm)  petal length (cm)  petal width (cm)  \\\n",
      "0                5.1               3.5                1.4               0.2   \n",
      "1                4.9               3.0                1.4               0.2   \n",
      "2                4.7               3.2                1.3               0.2   \n",
      "3                4.6               3.1                1.5               0.2   \n",
      "4                5.0               3.6                1.4               0.2   \n",
      "\n",
      "   target  \n",
      "0       0  \n",
      "1       0  \n",
      "2       0  \n",
      "3       0  \n",
      "4       0  \n",
      "<class 'pandas.core.frame.DataFrame'>\n",
      "RangeIndex: 150 entries, 0 to 149\n",
      "Data columns (total 5 columns):\n",
      " #   Column             Non-Null Count  Dtype  \n",
      "---  ------             --------------  -----  \n",
      " 0   sepal length (cm)  150 non-null    float64\n",
      " 1   sepal width (cm)   150 non-null    float64\n",
      " 2   petal length (cm)  150 non-null    float64\n",
      " 3   petal width (cm)   150 non-null    float64\n",
      " 4   target             150 non-null    int32  \n",
      "dtypes: float64(4), int32(1)\n",
      "memory usage: 5.4 KB\n",
      "None\n"
     ]
    }
   ],
   "source": [
    "import pandas as pd\n",
    "from sklearn.datasets import load_iris\n",
    "# Carregar dataset Iris\n",
    "iris = load_iris(as_frame=True)\n",
    "df = iris.frame\n",
    "\n",
    "# Visão inicial\n",
    "print(df.head())\n",
    "print(df.info())"
   ]
  },
  {
   "cell_type": "markdown",
   "id": "bd1291da-916d-4759-834b-b504d945c3c0",
   "metadata": {},
   "source": [
    "## 2. Estatísticas Descritivas"
   ]
  },
  {
   "cell_type": "code",
   "execution_count": 4,
   "id": "69ac7cb4-b7e8-421f-9169-6c9436c7672b",
   "metadata": {},
   "outputs": [
    {
     "name": "stdout",
     "output_type": "stream",
     "text": [
      "       sepal length (cm)  sepal width (cm)  petal length (cm)  \\\n",
      "count         150.000000        150.000000         150.000000   \n",
      "mean            5.843333          3.057333           3.758000   \n",
      "std             0.828066          0.435866           1.765298   \n",
      "min             4.300000          2.000000           1.000000   \n",
      "25%             5.100000          2.800000           1.600000   \n",
      "50%             5.800000          3.000000           4.350000   \n",
      "75%             6.400000          3.300000           5.100000   \n",
      "max             7.900000          4.400000           6.900000   \n",
      "\n",
      "       petal width (cm)      target  \n",
      "count        150.000000  150.000000  \n",
      "mean           1.199333    1.000000  \n",
      "std            0.762238    0.819232  \n",
      "min            0.100000    0.000000  \n",
      "25%            0.300000    0.000000  \n",
      "50%            1.300000    1.000000  \n",
      "75%            1.800000    2.000000  \n",
      "max            2.500000    2.000000  \n",
      "target\n",
      "0    50\n",
      "1    50\n",
      "2    50\n",
      "Name: count, dtype: int64\n"
     ]
    }
   ],
   "source": [
    "# Estatísticas básicas\n",
    "print(df.describe())\n",
    "\n",
    "# Contagem por classe\n",
    "print(df[\"target\"].value_counts())\n"
   ]
  },
  {
   "cell_type": "markdown",
   "id": "d9a96153-aacd-488c-8ec7-3deef5ed5ee7",
   "metadata": {},
   "source": [
    "## 3. Seleção e Filtragem"
   ]
  },
  {
   "cell_type": "code",
   "execution_count": 5,
   "id": "8e7b9043-783c-4976-8dcf-fc3105d1cd31",
   "metadata": {},
   "outputs": [
    {
     "name": "stdout",
     "output_type": "stream",
     "text": [
      "   petal length (cm)  petal width (cm)\n",
      "0                1.4               0.2\n",
      "1                1.4               0.2\n",
      "2                1.3               0.2\n",
      "3                1.5               0.2\n",
      "4                1.4               0.2\n",
      "   sepal length (cm)  sepal width (cm)  petal length (cm)  petal width (cm)  \\\n",
      "0                5.1               3.5                1.4               0.2   \n",
      "1                4.9               3.0                1.4               0.2   \n",
      "2                4.7               3.2                1.3               0.2   \n",
      "3                4.6               3.1                1.5               0.2   \n",
      "4                5.0               3.6                1.4               0.2   \n",
      "\n",
      "   target  \n",
      "0       0  \n",
      "1       0  \n",
      "2       0  \n",
      "3       0  \n",
      "4       0  \n"
     ]
    }
   ],
   "source": [
    "# Selecionando apenas pétalas\n",
    "petalas = df[[\"petal length (cm)\", \"petal width (cm)\"]]\n",
    "print(petalas.head())\n",
    "\n",
    "# Filtrando flores Setosa\n",
    "setosa = df[df[\"target\"] == 0]\n",
    "print(setosa.head())\n"
   ]
  },
  {
   "cell_type": "markdown",
   "id": "65f37546-2282-4aff-97dc-d9e3e08c1461",
   "metadata": {},
   "source": [
    "## 4. Criação de Colunas Derivadas"
   ]
  },
  {
   "cell_type": "code",
   "execution_count": 6,
   "id": "aa60daf5-99e6-4c87-982e-57f2428f69c5",
   "metadata": {},
   "outputs": [
    {
     "name": "stdout",
     "output_type": "stream",
     "text": [
      "target\n",
      "0    6.908000\n",
      "1    3.242837\n",
      "2    2.780662\n",
      "Name: petal_ratio, dtype: float64\n"
     ]
    }
   ],
   "source": [
    "# Nova coluna: razão comprimento/largura da pétala\n",
    "df[\"petal_ratio\"] = df[\"petal length (cm)\"] / df[\"petal width (cm)\"]\n",
    "\n",
    "# Média por espécie\n",
    "media_ratio = df.groupby(\"target\")[\"petal_ratio\"].mean()\n",
    "print(media_ratio)\n"
   ]
  },
  {
   "cell_type": "markdown",
   "id": "62da9de1-a46d-4713-9c15-e9aa86206272",
   "metadata": {},
   "source": [
    "## 5. Análise Exploratória Rápida"
   ]
  },
  {
   "cell_type": "code",
   "execution_count": 7,
   "id": "f1cd8b96-278f-49bb-be4a-37849025b335",
   "metadata": {},
   "outputs": [
    {
     "name": "stdout",
     "output_type": "stream",
     "text": [
      "        sepal length (cm)  sepal width (cm)  petal length (cm)  \\\n",
      "target                                                           \n",
      "0                   5.006             3.428              1.462   \n",
      "1                   5.936             2.770              4.260   \n",
      "2                   6.588             2.974              5.552   \n",
      "\n",
      "        petal width (cm)  petal_ratio  \n",
      "target                                 \n",
      "0                  0.246     6.908000  \n",
      "1                  1.326     3.242837  \n",
      "2                  2.026     2.780662  \n"
     ]
    }
   ],
   "source": [
    "# Diferença de médias entre espécies\n",
    "comparacao = df.groupby(\"target\").mean()\n",
    "print(comparacao)\n"
   ]
  },
  {
   "cell_type": "markdown",
   "id": "7a862d82-5580-4fb6-8ab1-d48841ca78d6",
   "metadata": {},
   "source": [
    "## 🎯 Conclusão\n",
    "\n",
    "Neste notebook foram demonstradas habilidades essenciais em **EDA** com **Pandas**:  \n",
    "- Carregamento e inspeção de dataset real  \n",
    "- Estatísticas descritivas  \n",
    "- Seleção e filtragem de dados  \n",
    "- Criação de colunas derivadas  \n",
    "- Agrupamento e comparações entre classes  \n",
    "Esse processo é **a base da análise exploratória**, fornecendo insumos valiosos para etapas posteriores de **modelagem preditiva** e **visualização avançada**."
   ]
  },
  {
   "cell_type": "code",
   "execution_count": null,
   "id": "96415a0d-5eb3-47c7-bfa6-5fd22fd96dfc",
   "metadata": {},
   "outputs": [],
   "source": []
  },
  {
   "cell_type": "code",
   "execution_count": null,
   "id": "06898599-b3d5-4b1e-a3e9-e766e970d118",
   "metadata": {},
   "outputs": [],
   "source": []
  }
 ],
 "metadata": {
  "kernelspec": {
   "display_name": "Python [conda env:base] *",
   "language": "python",
   "name": "conda-base-py"
  },
  "language_info": {
   "codemirror_mode": {
    "name": "ipython",
    "version": 3
   },
   "file_extension": ".py",
   "mimetype": "text/x-python",
   "name": "python",
   "nbconvert_exporter": "python",
   "pygments_lexer": "ipython3",
   "version": "3.12.7"
  }
 },
 "nbformat": 4,
 "nbformat_minor": 5
}
