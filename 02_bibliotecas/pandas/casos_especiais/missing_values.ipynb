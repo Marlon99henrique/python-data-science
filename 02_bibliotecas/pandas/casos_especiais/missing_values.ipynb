{
 "cells": [
  {
   "cell_type": "markdown",
   "id": "4664e619-e439-4166-a35b-6bb858ccef1d",
   "metadata": {},
   "source": [
    "# 🧹 Tratamento de Valores Ausentes com Pandas\n",
    "\n",
    "Este notebook demonstra diferentes técnicas para lidar com **missing values (NaN)** em datasets.  \n",
    "O tratamento adequado é essencial para evitar **viés**, **perda de informação** e **erros em modelos de machine learning**.\n",
    "\n",
    "---\n",
    "\n",
    "## 📥 1. Importando bibliotecas e criando dataset de exemplo"
   ]
  },
  {
   "cell_type": "code",
   "execution_count": 7,
   "id": "fddb2615-eecd-462d-a614-130148d3131d",
   "metadata": {},
   "outputs": [
    {
     "data": {
      "text/html": [
       "<div>\n",
       "<style scoped>\n",
       "    .dataframe tbody tr th:only-of-type {\n",
       "        vertical-align: middle;\n",
       "    }\n",
       "\n",
       "    .dataframe tbody tr th {\n",
       "        vertical-align: top;\n",
       "    }\n",
       "\n",
       "    .dataframe thead th {\n",
       "        text-align: right;\n",
       "    }\n",
       "</style>\n",
       "<table border=\"1\" class=\"dataframe\">\n",
       "  <thead>\n",
       "    <tr style=\"text-align: right;\">\n",
       "      <th></th>\n",
       "      <th>Nome</th>\n",
       "      <th>Idade</th>\n",
       "      <th>Salario</th>\n",
       "      <th>Cidade</th>\n",
       "    </tr>\n",
       "  </thead>\n",
       "  <tbody>\n",
       "    <tr>\n",
       "      <th>0</th>\n",
       "      <td>Ana</td>\n",
       "      <td>23.0</td>\n",
       "      <td>5000.0</td>\n",
       "      <td>SP</td>\n",
       "    </tr>\n",
       "    <tr>\n",
       "      <th>1</th>\n",
       "      <td>Bruno</td>\n",
       "      <td>NaN</td>\n",
       "      <td>6200.0</td>\n",
       "      <td>RJ</td>\n",
       "    </tr>\n",
       "    <tr>\n",
       "      <th>2</th>\n",
       "      <td>Carlos</td>\n",
       "      <td>35.0</td>\n",
       "      <td>NaN</td>\n",
       "      <td>NaN</td>\n",
       "    </tr>\n",
       "    <tr>\n",
       "      <th>3</th>\n",
       "      <td>Daniela</td>\n",
       "      <td>29.0</td>\n",
       "      <td>5800.0</td>\n",
       "      <td>SP</td>\n",
       "    </tr>\n",
       "    <tr>\n",
       "      <th>4</th>\n",
       "      <td>Eduardo</td>\n",
       "      <td>NaN</td>\n",
       "      <td>7200.0</td>\n",
       "      <td>BH</td>\n",
       "    </tr>\n",
       "  </tbody>\n",
       "</table>\n",
       "</div>"
      ],
      "text/plain": [
       "      Nome  Idade  Salario Cidade\n",
       "0      Ana   23.0   5000.0     SP\n",
       "1    Bruno    NaN   6200.0     RJ\n",
       "2   Carlos   35.0      NaN    NaN\n",
       "3  Daniela   29.0   5800.0     SP\n",
       "4  Eduardo    NaN   7200.0     BH"
      ]
     },
     "execution_count": 7,
     "metadata": {},
     "output_type": "execute_result"
    }
   ],
   "source": [
    "import pandas as pd\n",
    "import numpy as np\n",
    "\n",
    "# Criando um DataFrame com valores ausentes\n",
    "data = {\n",
    "    \"Nome\": [\"Ana\", \"Bruno\", \"Carlos\", \"Daniela\", \"Eduardo\"],\n",
    "    \"Idade\": [23, np.nan, 35, 29, np.nan],\n",
    "    \"Salario\": [5000, 6200, np.nan, 5800, 7200],\n",
    "    \"Cidade\": [\"SP\", \"RJ\", np.nan, \"SP\", \"BH\"]\n",
    "}\n",
    "\n",
    "df = pd.DataFrame(data)\n",
    "df"
   ]
  },
  {
   "cell_type": "markdown",
   "id": "7df5a822-16f7-4b44-9403-5791817a2134",
   "metadata": {},
   "source": [
    "## 🔍 2. Identificação de valores ausentes"
   ]
  },
  {
   "cell_type": "code",
   "execution_count": 8,
   "id": "e7693663-4c2c-4c38-a8ad-b7325e4ca876",
   "metadata": {},
   "outputs": [
    {
     "data": {
      "text/plain": [
       "4"
      ]
     },
     "execution_count": 8,
     "metadata": {},
     "output_type": "execute_result"
    }
   ],
   "source": [
    "# Verificando presença de NaN\n",
    "df.isnull()\n",
    "\n",
    "# Contando valores ausentes por coluna\n",
    "df.isnull().sum()\n",
    "\n",
    "# Total de valores ausentes no DataFrame\n",
    "df.isnull().sum().sum()\n"
   ]
  },
  {
   "cell_type": "markdown",
   "id": "fe657e04-814c-4abc-b20b-fbeada6965b6",
   "metadata": {},
   "source": [
    "## 🗑 3. Remoção de valores ausentes\n",
    "\n"
   ]
  },
  {
   "cell_type": "code",
   "execution_count": 4,
   "id": "a011a694-21eb-4ef6-a2f1-a1fc00653d4b",
   "metadata": {},
   "outputs": [
    {
     "data": {
      "text/plain": [
       "(      Nome  Idade  Salario Cidade\n",
       " 0      Ana   23.0   5000.0     SP\n",
       " 3  Daniela   29.0   5800.0     SP,\n",
       "       Nome\n",
       " 0      Ana\n",
       " 1    Bruno\n",
       " 2   Carlos\n",
       " 3  Daniela\n",
       " 4  Eduardo)"
      ]
     },
     "execution_count": 4,
     "metadata": {},
     "output_type": "execute_result"
    }
   ],
   "source": [
    "# Remover linhas com qualquer valor nulo\n",
    "df_drop_lin = df.dropna()\n",
    "\n",
    "# Remover colunas inteiras com valores nulos\n",
    "df_drop_col = df.dropna(axis=1)\n",
    "\n",
    "df_drop_lin, df_drop_col\n"
   ]
  },
  {
   "cell_type": "markdown",
   "id": "f59692f2-0f8b-4a65-9060-886cf8a3d3d1",
   "metadata": {},
   "source": [
    "## 🔄 4. Preenchimento de valores ausentes"
   ]
  },
  {
   "cell_type": "code",
   "execution_count": 12,
   "id": "35052013-53ac-40c1-8992-eeeaa914f581",
   "metadata": {},
   "outputs": [
    {
     "data": {
      "text/plain": [
       "(      Nome  Idade  Salario Cidade\n",
       " 0      Ana   23.0   5000.0     SP\n",
       " 1    Bruno   29.0   6200.0     RJ\n",
       " 2   Carlos   35.0   6000.0     SP\n",
       " 3  Daniela   29.0   5800.0     SP\n",
       " 4  Eduardo   29.0   7200.0     BH,\n",
       "       Nome  Idade  Salario Cidade\n",
       " 0      Ana   23.0   5000.0     SP\n",
       " 1    Bruno   29.0   6200.0     RJ\n",
       " 2   Carlos   35.0   6000.0     SP\n",
       " 3  Daniela   29.0   5800.0     SP\n",
       " 4  Eduardo   29.0   7200.0     BH,\n",
       "       Nome  Idade  Salario Cidade\n",
       " 0      Ana   23.0   5000.0     SP\n",
       " 1    Bruno   29.0   6200.0     RJ\n",
       " 2   Carlos   35.0   6000.0     SP\n",
       " 3  Daniela   29.0   5800.0     SP\n",
       " 4  Eduardo   29.0   7200.0     BH,\n",
       "       Nome  Idade  Salario Cidade\n",
       " 0      Ana   23.0   5000.0     SP\n",
       " 1    Bruno   29.0   6200.0     RJ\n",
       " 2   Carlos   35.0   6000.0     SP\n",
       " 3  Daniela   29.0   5800.0     SP\n",
       " 4  Eduardo   29.0   7200.0     BH)"
      ]
     },
     "execution_count": 12,
     "metadata": {},
     "output_type": "execute_result"
    }
   ],
   "source": [
    "# Preenchendo com valor constante \n",
    "df_fill_const = df.fillna(\"Desconhecido\")\n",
    "\n",
    "# Preenchendo com média/mediana \n",
    "df_fill_mean = df.fillna({\n",
    "    \"Idade\": df[\"Idade\"].mean(),\n",
    "    \"Salario\": df[\"Salario\"].median()\n",
    "})\n",
    "\n",
    "# Forward fill (valor anterior) \n",
    "df_ffill = df.ffill()  \n",
    "\n",
    "# Backward fill (valor seguinte) \n",
    "df_bfill = df.bfill()  \n",
    "\n",
    "df_fill_const, df_fill_mean, df_ffill, df_bfill"
   ]
  },
  {
   "cell_type": "markdown",
   "id": "c18e1c8b-dff1-4ac2-b947-28c6c1dae2aa",
   "metadata": {},
   "source": [
    "## 📊 5. Estratégias avançadas"
   ]
  },
  {
   "cell_type": "code",
   "execution_count": 15,
   "id": "133b7c25-6d7d-42d5-b92c-7494d3632d55",
   "metadata": {},
   "outputs": [
    {
     "data": {
      "text/html": [
       "<div>\n",
       "<style scoped>\n",
       "    .dataframe tbody tr th:only-of-type {\n",
       "        vertical-align: middle;\n",
       "    }\n",
       "\n",
       "    .dataframe tbody tr th {\n",
       "        vertical-align: top;\n",
       "    }\n",
       "\n",
       "    .dataframe thead th {\n",
       "        text-align: right;\n",
       "    }\n",
       "</style>\n",
       "<table border=\"1\" class=\"dataframe\">\n",
       "  <thead>\n",
       "    <tr style=\"text-align: right;\">\n",
       "      <th></th>\n",
       "      <th>Nome</th>\n",
       "      <th>Idade</th>\n",
       "      <th>Salario</th>\n",
       "      <th>Cidade</th>\n",
       "    </tr>\n",
       "  </thead>\n",
       "  <tbody>\n",
       "    <tr>\n",
       "      <th>0</th>\n",
       "      <td>Ana</td>\n",
       "      <td>23.0</td>\n",
       "      <td>5000.0</td>\n",
       "      <td>SP</td>\n",
       "    </tr>\n",
       "    <tr>\n",
       "      <th>1</th>\n",
       "      <td>Bruno</td>\n",
       "      <td>29.0</td>\n",
       "      <td>6200.0</td>\n",
       "      <td>RJ</td>\n",
       "    </tr>\n",
       "    <tr>\n",
       "      <th>2</th>\n",
       "      <td>Carlos</td>\n",
       "      <td>35.0</td>\n",
       "      <td>6000.0</td>\n",
       "      <td>SP</td>\n",
       "    </tr>\n",
       "    <tr>\n",
       "      <th>3</th>\n",
       "      <td>Daniela</td>\n",
       "      <td>29.0</td>\n",
       "      <td>5800.0</td>\n",
       "      <td>SP</td>\n",
       "    </tr>\n",
       "    <tr>\n",
       "      <th>4</th>\n",
       "      <td>Eduardo</td>\n",
       "      <td>29.0</td>\n",
       "      <td>7200.0</td>\n",
       "      <td>BH</td>\n",
       "    </tr>\n",
       "  </tbody>\n",
       "</table>\n",
       "</div>"
      ],
      "text/plain": [
       "      Nome  Idade  Salario Cidade\n",
       "0      Ana   23.0   5000.0     SP\n",
       "1    Bruno   29.0   6200.0     RJ\n",
       "2   Carlos   35.0   6000.0     SP\n",
       "3  Daniela   29.0   5800.0     SP\n",
       "4  Eduardo   29.0   7200.0     BH"
      ]
     },
     "execution_count": 15,
     "metadata": {},
     "output_type": "execute_result"
    }
   ],
   "source": [
    "# Substituindo valores nulos de 'Idade' pela média da coluna\n",
    "df[\"Idade\"] = df[\"Idade\"].fillna(df[\"Idade\"].mean())\n",
    "\n",
    "# Substituindo nulos de 'Salario' pela mediana\n",
    "df[\"Salario\"] = df[\"Salario\"].fillna(df[\"Salario\"].median())\n",
    "\n",
    "# Para colunas categóricas, usar o valor mais frequente (moda)\n",
    "df[\"Cidade\"] = df[\"Cidade\"].fillna(df[\"Cidade\"].mode()[0])\n",
    "\n",
    "df\n"
   ]
  },
  {
   "cell_type": "markdown",
   "id": "a527417b-5dfe-4109-8eb4-3c5ebe7b141f",
   "metadata": {},
   "source": [
    "## ✅ 6. Conclusão\n",
    "- Valores ausentes devem ser tratados com cuidado.  \n",
    "- Estratégia depende do contexto:  \n",
    "    - **Remoção** → quando poucos dados estão ausentes.  \n",
    "    - **Preenchimento estatístico** → quando há padrão numérico claro.  \n",
    "    - **Preenchimento categórico (moda)** → útil em dados de texto/categorias.  \n",
    "    - **Métodos avançados** → imputação por modelos ou KNN (fora do escopo básico)."
   ]
  }
 ],
 "metadata": {
  "kernelspec": {
   "display_name": "Python [conda env:base] *",
   "language": "python",
   "name": "conda-base-py"
  },
  "language_info": {
   "codemirror_mode": {
    "name": "ipython",
    "version": 3
   },
   "file_extension": ".py",
   "mimetype": "text/x-python",
   "name": "python",
   "nbconvert_exporter": "python",
   "pygments_lexer": "ipython3",
   "version": "3.12.7"
  }
 },
 "nbformat": 4,
 "nbformat_minor": 5
}
