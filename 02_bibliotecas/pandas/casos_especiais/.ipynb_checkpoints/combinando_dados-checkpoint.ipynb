{
 "cells": [
  {
   "cell_type": "markdown",
   "id": "7bb93324-dc76-407f-bccc-ae172fe02dd3",
   "metadata": {},
   "source": [
    "\n",
    "# 🔗 Combinando Dados com Pandas\n",
    "\n",
    "Este notebook apresenta técnicas para combinar datasets usando **concatenação, merge e join**, simulando situações comuns em projetos de Ciência de Dados.  \n",
    "O objetivo é demonstrar **domínio prático** de manipulação de dados no Pandas, aplicando boas práticas que evitam problemas em pipelines reais.  \n",
    "\n",
    "---\n",
    "\n",
    "## 📌 1. Concatenação\n",
    "\n",
    "A concatenação empilha DataFrames ao longo de linhas ou colunas.  \n",
    "É útil quando temos **dados de períodos diferentes** ou **atributos adicionais**."
   ]
  },
  {
   "cell_type": "code",
   "execution_count": 1,
   "id": "2cd30f8f-f1bd-4ad8-aefb-2fade749b6b4",
   "metadata": {},
   "outputs": [
    {
     "name": "stdout",
     "output_type": "stream",
     "text": [
      "   id_venda  valor\n",
      "0         1    500\n",
      "1         2    700\n",
      "2         3    300\n",
      "3         4    450\n",
      "4         5    800\n",
      "   id_venda  valor  desconto\n",
      "0         1    500      0.10\n",
      "1         2    700      0.20\n",
      "2         3    300      0.15\n",
      "3         4    450      0.05\n",
      "4         5    800      0.00\n"
     ]
    }
   ],
   "source": [
    "import pandas as pd\n",
    "\n",
    "# Dados de vendas em dois meses\n",
    "jan = pd.DataFrame({\n",
    "    \"id_venda\": [1, 2, 3],\n",
    "    \"valor\": [500, 700, 300]\n",
    "})\n",
    "\n",
    "fev = pd.DataFrame({\n",
    "    \"id_venda\": [4, 5],\n",
    "    \"valor\": [450, 800]\n",
    "})\n",
    "\n",
    "# Empilhando verticalmente (mais linhas)\n",
    "vendas_total = pd.concat([jan, fev], axis=0, ignore_index=True)\n",
    "print(vendas_total)\n",
    "\n",
    "# Concatenando horizontalmente (mais colunas)\n",
    "atributos = pd.DataFrame({\n",
    "    \"desconto\": [0.1, 0.2, 0.15, 0.05, 0.0]\n",
    "})\n",
    "\n",
    "vendas_completas = pd.concat([vendas_total, atributos], axis=1)\n",
    "print(vendas_completas)"
   ]
  },
  {
   "cell_type": "markdown",
   "id": "eb98ec9d-3df4-4175-9a64-231cdedd959c",
   "metadata": {},
   "source": [
    "## 📌 2. Merge (similar ao SQL JOIN)\n",
    "\n",
    "O `merge` permite unir DataFrames por uma chave comum.\n",
    "É essencial para **cruzar informações** de diferentes tabelas."
   ]
  },
  {
   "cell_type": "code",
   "execution_count": 2,
   "id": "4138e70d-ec9d-4d34-b7d7-e3c3a5e0d7d9",
   "metadata": {},
   "outputs": [
    {
     "name": "stdout",
     "output_type": "stream",
     "text": [
      "   id_cliente   nome  id_pedido  valor\n",
      "0           1    Ana        101    250\n",
      "1           2  Bruno        102    400\n",
      "2           2  Bruno        103    150\n",
      "   id_cliente   nome  id_pedido  valor\n",
      "0           1    Ana      101.0  250.0\n",
      "1           2  Bruno      102.0  400.0\n",
      "2           2  Bruno      103.0  150.0\n",
      "3           3  Carla        NaN    NaN\n",
      "   id_cliente   nome  id_pedido  valor      _merge\n",
      "0           1    Ana      101.0  250.0        both\n",
      "1           2  Bruno      102.0  400.0        both\n",
      "2           2  Bruno      103.0  150.0        both\n",
      "3           3  Carla        NaN    NaN   left_only\n",
      "4           4    NaN      104.0  300.0  right_only\n"
     ]
    }
   ],
   "source": [
    "# Tabela de clientes\n",
    "clientes = pd.DataFrame({\n",
    "    \"id_cliente\": [1, 2, 3],\n",
    "    \"nome\": [\"Ana\", \"Bruno\", \"Carla\"]\n",
    "})\n",
    "\n",
    "# Tabela de pedidos\n",
    "pedidos = pd.DataFrame({\n",
    "    \"id_pedido\": [101, 102, 103, 104],\n",
    "    \"id_cliente\": [1, 2, 2, 4],\n",
    "    \"valor\": [250, 400, 150, 300]\n",
    "})\n",
    "\n",
    "# INNER JOIN → mantém apenas correspondências\n",
    "inner = pd.merge(clientes, pedidos, on=\"id_cliente\", how=\"inner\")\n",
    "print(inner)\n",
    "\n",
    "# LEFT JOIN → mantém todos os clientes, mesmo sem pedidos\n",
    "left = pd.merge(clientes, pedidos, on=\"id_cliente\", how=\"left\")\n",
    "print(left)\n",
    "\n",
    "# FULL OUTER JOIN → mantém todos os registros\n",
    "outer = pd.merge(clientes, pedidos, on=\"id_cliente\", how=\"outer\", indicator=True)\n",
    "print(outer)\n"
   ]
  },
  {
   "cell_type": "markdown",
   "id": "c588c57e-af9c-478b-b0a4-0f9889b096ae",
   "metadata": {},
   "source": [
    "## 📌 3. Join (usando índices)\n",
    "\n",
    "O `join` é prático para unir DataFrames baseados no **índice**."
   ]
  },
  {
   "cell_type": "code",
   "execution_count": 3,
   "id": "39dcfa21-eb26-4fe8-a6bd-dd350bb0dc38",
   "metadata": {},
   "outputs": [
    {
     "name": "stdout",
     "output_type": "stream",
     "text": [
      "    nome  tempo_online  compras\n",
      "1  Alice            35        3\n",
      "2    Bob            47        7\n",
      "3  Carol            12        1\n"
     ]
    }
   ],
   "source": [
    "# Dados de usuários\n",
    "usuarios = pd.DataFrame({\n",
    "    \"nome\": [\"Alice\", \"Bob\", \"Carol\"]\n",
    "}, index=[1, 2, 3])\n",
    "\n",
    "# Métricas associadas aos mesmos índices\n",
    "metricas = pd.DataFrame({\n",
    "    \"tempo_online\": [35, 47, 12],\n",
    "    \"compras\": [3, 7, 1]\n",
    "}, index=[1, 2, 3])\n",
    "\n",
    "# LEFT JOIN pelos índices\n",
    "usuarios_completo = usuarios.join(metricas, how=\"left\")\n",
    "print(usuarios_completo)\n"
   ]
  },
  {
   "cell_type": "markdown",
   "id": "2e6db43e-a90c-4ba7-9f27-e0fc46ba2fe2",
   "metadata": {},
   "source": [
    "### ⚡ Boas Práticas\n",
    "\n",
    "✅ Sempre validar chaves antes de aplicar `merge`:"
   ]
  },
  {
   "cell_type": "code",
   "execution_count": 4,
   "id": "872f4808-450d-4ffc-a521-7083a1e98912",
   "metadata": {},
   "outputs": [
    {
     "name": "stdout",
     "output_type": "stream",
     "text": [
      "False\n"
     ]
    }
   ],
   "source": [
    "print(pedidos[\"id_cliente\"].is_unique)  # Evita duplicações inesperadas\n"
   ]
  },
  {
   "cell_type": "markdown",
   "id": "20ac49ea-4824-443b-9714-e0700d541b49",
   "metadata": {},
   "source": [
    "✅ Usar indicator=True no merge para entender a origem de cada linha.  \n",
    "✅ Definir ignore_index=True em concat para evitar índices duplicados.  \n",
    "✅ Manter nomes de colunas claros ao combinar dados para evitar conflitos.  "
   ]
  },
  {
   "cell_type": "markdown",
   "id": "0fe97238-e0d0-49d7-a071-1c5deccb6b96",
   "metadata": {},
   "source": [
    "## 🎯 Conclusão\n",
    "\n",
    "Este notebook mostrou diferentes formas de **combinar datasets no Pandas**:  \n",
    "- `concat` para empilhar dados  \n",
    "- `merge` para junções SQL-like  \n",
    "- `join` baseado em índices  \n",
    "Essas técnicas são fundamentais para integrar informações em análises e modelos de Ciência de Dados."
   ]
  }
 ],
 "metadata": {
  "kernelspec": {
   "display_name": "Python [conda env:base] *",
   "language": "python",
   "name": "conda-base-py"
  },
  "language_info": {
   "codemirror_mode": {
    "name": "ipython",
    "version": 3
   },
   "file_extension": ".py",
   "mimetype": "text/x-python",
   "name": "python",
   "nbconvert_exporter": "python",
   "pygments_lexer": "ipython3",
   "version": "3.12.7"
  }
 },
 "nbformat": 4,
 "nbformat_minor": 5
}
