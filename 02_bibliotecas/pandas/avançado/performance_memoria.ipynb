{
 "cells": [
  {
   "cell_type": "markdown",
   "id": "b559b005-4949-4c95-b102-84f9104d6d0f",
   "metadata": {},
   "source": [
    "# Otimização de Performance e Memória em Pandas\n",
    "\n",
    "Este notebook demonstra **estratégias avançadas para melhorar a performance e reduzir o consumo de memória** em DataFrames grandes.\n",
    "\n",
    "---\n",
    "\n",
    "## 📌 Conteúdo\n",
    "\n",
    "1. **Comparação Apply vs Vectorization**\n",
    "   - Como funções aplicadas linha a linha (`apply`) podem ser lentas\n",
    "   - Uso de operações vetorizadas para ganhar performance\n",
    "\n",
    "2. **Tipos de dados e consumo de memória**\n",
    "   - Conversão de `object` para `category`\n",
    "   - Redução de `int64` e `float64` para tipos menores quando possível\n",
    "   - Avaliação do uso de memória com `df.info(memory_usage='deep')`\n",
    "\n",
    "3. **Filtragem e seleção eficiente**\n",
    "   - Máscaras booleanas vs `query()`\n",
    "   - Evitando cópias desnecessárias de DataFrames\n",
    "\n",
    "4. **Otimizações práticas**\n",
    "   - Uso de `assign()`, `pipe()`, `eval()` e `query()` para maior eficiência\n",
    "   - Agrupamentos otimizados com `groupby()`\n",
    "\n",
    "---\n",
    "\n",
    "## ⚡ Objetivo\n",
    "\n",
    "- Mostrar conhecimento em **boas práticas de performance em Pandas**  \n",
    "- Demonstrar habilidade em **tratar datasets grandes** de forma eficiente  \n",
    "- Preparar o fluxo de dados para **análise exploratória e modelagem**\n",
    "\n",
    "---\n",
    "\n",
    "## 🛠 Exemplos de técnicas"
   ]
  },
  {
   "cell_type": "code",
   "execution_count": 1,
   "id": "0e607a10-003b-4b73-b276-cc735a9d1716",
   "metadata": {},
   "outputs": [
    {
     "name": "stdout",
     "output_type": "stream",
     "text": [
      "<class 'pandas.core.frame.DataFrame'>\n",
      "RangeIndex: 1000000 entries, 0 to 999999\n",
      "Data columns (total 2 columns):\n",
      " #   Column     Non-Null Count    Dtype  \n",
      "---  ------     --------------    -----  \n",
      " 0   categoria  1000000 non-null  object \n",
      " 1   valores    1000000 non-null  float64\n",
      "dtypes: float64(1), object(1)\n",
      "memory usage: 55.3 MB\n",
      "None\n",
      "<class 'pandas.core.frame.DataFrame'>\n",
      "RangeIndex: 1000000 entries, 0 to 999999\n",
      "Data columns (total 2 columns):\n",
      " #   Column     Non-Null Count    Dtype   \n",
      "---  ------     --------------    -----   \n",
      " 0   categoria  1000000 non-null  category\n",
      " 1   valores    1000000 non-null  float64 \n",
      "dtypes: category(1), float64(1)\n",
      "memory usage: 8.6 MB\n",
      "None\n",
      "562 ms ± 20.1 ms per loop (mean ± std. dev. of 7 runs, 1 loop each)\n",
      "6.3 ms ± 266 μs per loop (mean ± std. dev. of 7 runs, 100 loops each)\n"
     ]
    }
   ],
   "source": [
    "import pandas as pd\n",
    "import numpy as np\n",
    "\n",
    "# Criando DataFrame grande\n",
    "df = pd.DataFrame({\n",
    "    \"categoria\": np.random.choice([\"A\", \"B\", \"C\"], size=1_000_000),\n",
    "    \"valores\": np.random.randn(1_000_000),\n",
    "})\n",
    "\n",
    "# Memory usage antes da otimização\n",
    "print(df.info(memory_usage='deep'))\n",
    "\n",
    "# Convertendo para category\n",
    "df[\"categoria\"] = df[\"categoria\"].astype(\"category\")\n",
    "\n",
    "# Memory usage depois da otimização\n",
    "print(df.info(memory_usage='deep'))\n",
    "\n",
    "# Apply vs vectorization\n",
    "# Apply lento\n",
    "%timeit df[\"valores_squared_apply\"] = df[\"valores\"].apply(lambda x: x**2)\n",
    "\n",
    "# Vetorizado rápido\n",
    "%timeit df[\"valores_squared_vec\"] = df[\"valores\"] ** 2"
   ]
  },
  {
   "cell_type": "markdown",
   "id": "a59f6bb4-e2a6-4984-b950-7acfc3db0e04",
   "metadata": {},
   "source": [
    "💡 **Dica:** Sempre que possível, prefira **operações vetorizadas** e **tipos de dados otimizados**, principalmente em datasets grandes. Isso demonstra maturidade no uso de Pandas e capacidade de trabalhar com dados reais de forma eficiente.\n",
    "\n"
   ]
  }
 ],
 "metadata": {
  "kernelspec": {
   "display_name": "Python [conda env:base] *",
   "language": "python",
   "name": "conda-base-py"
  },
  "language_info": {
   "codemirror_mode": {
    "name": "ipython",
    "version": 3
   },
   "file_extension": ".py",
   "mimetype": "text/x-python",
   "name": "python",
   "nbconvert_exporter": "python",
   "pygments_lexer": "ipython3",
   "version": "3.12.7"
  }
 },
 "nbformat": 4,
 "nbformat_minor": 5
}
