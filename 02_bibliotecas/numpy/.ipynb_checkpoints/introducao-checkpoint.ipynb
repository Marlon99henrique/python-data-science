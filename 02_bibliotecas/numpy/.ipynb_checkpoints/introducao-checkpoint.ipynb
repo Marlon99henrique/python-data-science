{
 "cells": [
  {
   "cell_type": "markdown",
   "id": "46d117c8-2b53-44c1-9340-80f528a0960f",
   "metadata": {},
   "source": [
    "# 📘 Introdução ao NumPy\n",
    "\n",
    "O **NumPy** é a biblioteca fundamental para computação numérica em Python.  \n",
    "Ele fornece suporte para **arrays multidimensionais**, além de funções matemáticas e estatísticas otimizadas.  \n",
    "\n",
    "Neste notebook, veremos os conceitos básicos:\n",
    "\n",
    "- Criação de arrays\n",
    "- Indexação e slicing\n",
    "- Tipos de dados (`dtype`)\n",
    "- Operações elementares\n",
    "\n",
    "---\n",
    "\n",
    "## 1. Importando o NumPy"
   ]
  },
  {
   "cell_type": "code",
   "execution_count": 1,
   "id": "050f3225-26c6-4dd2-824c-cd418007388c",
   "metadata": {},
   "outputs": [
    {
     "name": "stdout",
     "output_type": "stream",
     "text": [
      "Versão do NumPy: 1.26.4\n"
     ]
    }
   ],
   "source": [
    "import numpy as np\n",
    "\n",
    "print(\"Versão do NumPy:\", np.__version__)"
   ]
  },
  {
   "cell_type": "markdown",
   "id": "e919d4da-7343-4648-a399-1a8f5fd72f92",
   "metadata": {},
   "source": [
    "## 2. Criação de Arrays\n",
    "\n",
    "O NumPy oferece diversas formas de criar arrays."
   ]
  },
  {
   "cell_type": "code",
   "execution_count": 2,
   "id": "70768035-b650-426c-8012-addfde69614c",
   "metadata": {},
   "outputs": [
    {
     "name": "stdout",
     "output_type": "stream",
     "text": [
      "[1 2 3 4 5]\n",
      "[[1 2 3]\n",
      " [4 5 6]]\n",
      "[0.   0.25 0.5  0.75 1.  ]\n"
     ]
    }
   ],
   "source": [
    "# A partir de uma lista\n",
    "arr = np.array([1, 2, 3, 4, 5])\n",
    "print(arr)\n",
    "\n",
    "# Arrays multidimensionais\n",
    "matriz = np.array([[1, 2, 3], [4, 5, 6]])\n",
    "print(matriz)\n",
    "\n",
    "# Funções de criação\n",
    "zeros = np.zeros((3, 3))      # Matriz 3x3 de zeros\n",
    "uns = np.ones((2, 4))         # Matriz 2x4 de uns\n",
    "sequencia = np.arange(0, 10)  # Sequência de 0 a 9\n",
    "espacado = np.linspace(0, 1, 5)  # 5 valores entre 0 e 1\n",
    "print(espacado)\n"
   ]
  },
  {
   "cell_type": "markdown",
   "id": "cb5c4955-0809-45fc-b13c-1f7074032178",
   "metadata": {},
   "source": [
    "## 3. Indexação e Slicing\n",
    "\n",
    "Acessando e manipulando elementos dos arrays."
   ]
  },
  {
   "cell_type": "code",
   "execution_count": 3,
   "id": "c4cb65e7-2486-4c40-85ca-a7fec331a26e",
   "metadata": {},
   "outputs": [
    {
     "name": "stdout",
     "output_type": "stream",
     "text": [
      "Elemento na posição 0: 10\n",
      "Último elemento: 50\n",
      "Slice do 1 ao 3: [20 30 40]\n",
      "Elemento linha 1, coluna 2: 6\n",
      "Segunda linha inteira: [4 5 6]\n",
      "Terceira coluna inteira: [3 6 9]\n"
     ]
    }
   ],
   "source": [
    "arr = np.array([10, 20, 30, 40, 50])\n",
    "\n",
    "print(\"Elemento na posição 0:\", arr[0])   # Primeiro elemento\n",
    "print(\"Último elemento:\", arr[-1])       # Último elemento\n",
    "print(\"Slice do 1 ao 3:\", arr[1:4])      # Fatia (do índice 1 até 3)\n",
    "\n",
    "# Arrays multidimensionais\n",
    "matriz = np.array([[1, 2, 3], [4, 5, 6], [7, 8, 9]])\n",
    "print(\"Elemento linha 1, coluna 2:\", matriz[1, 2])\n",
    "print(\"Segunda linha inteira:\", matriz[1, :])\n",
    "print(\"Terceira coluna inteira:\", matriz[:, 2])\n"
   ]
  },
  {
   "cell_type": "markdown",
   "id": "55d2b7f7-990d-42e6-ba72-b1d19165de29",
   "metadata": {},
   "source": [
    "## 4. Tipos de Dados (dtype)\n",
    "\n",
    "Cada array NumPy tem um tipo de dado definido."
   ]
  },
  {
   "cell_type": "code",
   "execution_count": 4,
   "id": "9cbd1927-0cca-4a8e-8c1f-ad8eb33c7c12",
   "metadata": {},
   "outputs": [
    {
     "name": "stdout",
     "output_type": "stream",
     "text": [
      "arr_int: [1 2 3] | dtype: int32\n",
      "arr_float: [1.5 2.7 3.9] | dtype: float64\n",
      "Convertido para float: [1. 2. 3.] | dtype: float64\n"
     ]
    }
   ],
   "source": [
    "arr_int = np.array([1, 2, 3], dtype=np.int32)\n",
    "arr_float = np.array([1.5, 2.7, 3.9], dtype=np.float64)\n",
    "\n",
    "print(\"arr_int:\", arr_int, \"| dtype:\", arr_int.dtype)\n",
    "print(\"arr_float:\", arr_float, \"| dtype:\", arr_float.dtype)\n",
    "\n",
    "# Conversão de tipos\n",
    "arr_convertido = arr_int.astype(np.float64)\n",
    "print(\"Convertido para float:\", arr_convertido, \"| dtype:\", arr_convertido.dtype)\n"
   ]
  },
  {
   "cell_type": "markdown",
   "id": "5a9cd72e-b041-45a5-8aa4-12a7c9a7442d",
   "metadata": {},
   "source": [
    "## 5. Operações Elementares\n",
    "\n",
    "NumPy permite operações vetorizadas rápidas."
   ]
  },
  {
   "cell_type": "code",
   "execution_count": 5,
   "id": "343eba09-6c31-43c7-8342-8a7720d1f362",
   "metadata": {},
   "outputs": [
    {
     "name": "stdout",
     "output_type": "stream",
     "text": [
      "Soma: [11 22 33 44 55]\n",
      "Subtração: [ 9 18 27 36 45]\n",
      "Multiplicação: [ 2  4  6  8 10]\n",
      "Divisão: [10. 10. 10. 10. 10.]\n",
      "Potenciação: [ 1  4  9 16 25]\n"
     ]
    }
   ],
   "source": [
    "a = np.array([1, 2, 3, 4, 5])\n",
    "b = np.array([10, 20, 30, 40, 50])\n",
    "\n",
    "print(\"Soma:\", a + b)\n",
    "print(\"Subtração:\", b - a)\n",
    "print(\"Multiplicação:\", a * 2)\n",
    "print(\"Divisão:\", b / a)\n",
    "print(\"Potenciação:\", a ** 2)\n"
   ]
  },
  {
   "cell_type": "markdown",
   "id": "3777ecef-8f0b-4587-87b5-329663113c8d",
   "metadata": {},
   "source": [
    "## 🎯 Conclusão\n",
    "\n",
    "Neste notebook aprendemos os conceitos básicos do NumPy:  \n",
    "- Criação de arrays  \n",
    "- Indexação e slicing  \n",
    "- Tipos de dados (dtype)  \n",
    "- Operações vetorizadas  \n",
    "Esses fundamentos são a base para explorar recursos mais avançados como **álgebra linear**, **broadcasting** e **manipulação de memória.**"
   ]
  },
  {
   "cell_type": "code",
   "execution_count": null,
   "id": "c1fa3d4e-ee23-4775-94ec-fca05a79b5f1",
   "metadata": {},
   "outputs": [],
   "source": []
  }
 ],
 "metadata": {
  "kernelspec": {
   "display_name": "Python [conda env:base] *",
   "language": "python",
   "name": "conda-base-py"
  },
  "language_info": {
   "codemirror_mode": {
    "name": "ipython",
    "version": 3
   },
   "file_extension": ".py",
   "mimetype": "text/x-python",
   "name": "python",
   "nbconvert_exporter": "python",
   "pygments_lexer": "ipython3",
   "version": "3.12.7"
  }
 },
 "nbformat": 4,
 "nbformat_minor": 5
}
