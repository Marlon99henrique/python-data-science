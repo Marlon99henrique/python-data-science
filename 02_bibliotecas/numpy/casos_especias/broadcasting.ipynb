{
 "cells": [
  {
   "cell_type": "markdown",
   "id": "40ac9fae-f03a-45fb-a311-19fe00bfcbb6",
   "metadata": {},
   "source": [
    "# 📌 Broadcasting e Casos Especiais em NumPy\n",
    "\n",
    "## 1️⃣ Introdução ao Broadcasting\n",
    "Broadcasting é um mecanismo do NumPy que permite operações entre arrays de tamanhos diferentes, sem a necessidade de replicação explícita dos dados.\n",
    "\n",
    "Regras do Broadcasting\n",
    "- Dimensões iguais ou uma delas é 1.  \n",
    "- Se os tamanhos não coincidem, o array com tamanho 1 é \"esticado\".  \n",
    "- Se nenhum dos tamanhos for 1 → Erro!\n",
    "-  \n",
    "## 2️⃣ Exemplos Práticos \n",
    "#### 🔹 Exemplo 1: Soma com Escalar"
   ]
  },
  {
   "cell_type": "code",
   "execution_count": 4,
   "id": "cbedbc6c-6bd8-4203-a896-dcb824298fdf",
   "metadata": {},
   "outputs": [
    {
     "name": "stdout",
     "output_type": "stream",
     "text": [
      "[6 7 8]\n"
     ]
    }
   ],
   "source": [
    "import numpy as np\n",
    "\n",
    "a = np.array([1, 2, 3])\n",
    "b = 5  \n",
    "print(a + b)  # Broadcasting: [6, 7, 8]\n",
    "\n",
    "# saida dever ser [6 7 8]"
   ]
  },
  {
   "cell_type": "markdown",
   "id": "ad1bf518-29e4-4a8b-9068-920782bbc937",
   "metadata": {},
   "source": [
    "#### 🔹 Exemplo 2: Array (3,) + (3, 1)"
   ]
  },
  {
   "cell_type": "code",
   "execution_count": 5,
   "id": "8dd122c3-d598-4b29-9742-e630a1beae3d",
   "metadata": {},
   "outputs": [
    {
     "name": "stdout",
     "output_type": "stream",
     "text": [
      "[[2 3 4]\n",
      " [3 4 5]\n",
      " [4 5 6]]\n"
     ]
    }
   ],
   "source": [
    "a = np.array([1, 2, 3])      # Shape (3,)\n",
    "b = np.array([[1], [2], [3]]) # Shape (3, 1)\n",
    "print(a + b)\n",
    "\n"
   ]
  },
  {
   "cell_type": "markdown",
   "id": "fadcad42-704e-48bf-99e0-c3aae2fbcf86",
   "metadata": {},
   "source": [
    "\n",
    "saída:  \n",
    "[[2 3 4]  \n",
    " [3 4 5]  \n",
    " [4 5 6]]  \n",
    "  \n",
    "Explicação:  \n",
    "- `a` (3,) → (1, 3) → (3, 3) (broadcasted)  \n",
    "- `b` (3,1) → (3, 3) (broadcasted)\n",
    "\n"
   ]
  },
  {
   "cell_type": "markdown",
   "id": "42113995-cc88-4482-a97c-e1a9e16b1cc8",
   "metadata": {},
   "source": [
    "#### 🔸 Exemplo 3: Caso Especial (Erro de Broadcasting)"
   ]
  },
  {
   "cell_type": "code",
   "execution_count": 6,
   "id": "076607f7-94c3-4506-b7fd-1fd618735d95",
   "metadata": {},
   "outputs": [
    {
     "name": "stdout",
     "output_type": "stream",
     "text": [
      "Erro: operands could not be broadcast together with shapes (3,) (2,) \n"
     ]
    }
   ],
   "source": [
    "a = np.array([1, 2, 3])  # (3,)\n",
    "b = np.array([1, 2])      # (2,)\n",
    "try:\n",
    "    print(a + b)  # Falha! (3 ≠ 2)\n",
    "except ValueError as e:\n",
    "    print(\"Erro:\", e)"
   ]
  },
  {
   "cell_type": "markdown",
   "id": "48fffef4-449c-4571-a987-5003c8b86d13",
   "metadata": {},
   "source": [
    "Saída:  \n",
    "Erro: operands could not be broadcast together with shapes (3,) (2,)"
   ]
  },
  {
   "cell_type": "markdown",
   "id": "5b117236-7c52-4845-8b3e-2c7dbda39666",
   "metadata": {},
   "source": [
    "## 3️⃣ Aplicação Prática: Normalização de Dados"
   ]
  },
  {
   "cell_type": "code",
   "execution_count": 7,
   "id": "0cc36d04-cb63-4e2e-bc11-c647324085f1",
   "metadata": {},
   "outputs": [
    {
     "name": "stdout",
     "output_type": "stream",
     "text": [
      "[[-1.12385973 -0.37633025 -0.51207098]\n",
      " [-0.59572742  1.17920304 -1.62902853]\n",
      " [ 0.79192269 -0.76242388  0.2712388 ]\n",
      " [-0.61427395 -1.22142126  0.57279135]\n",
      " [ 1.54193842  1.18097234  1.29706936]]\n"
     ]
    }
   ],
   "source": [
    "data = np.random.rand(5, 3)  # 5 amostras, 3 features\n",
    "mean = data.mean(axis=0)     # Média por coluna (shape (3,))\n",
    "std = data.std(axis=0)       # Desvio padrão (shape (3,))\n",
    "\n",
    "normalized = (data - mean) / std  # Broadcasting!\n",
    "print(normalized)"
   ]
  },
  {
   "cell_type": "markdown",
   "id": "cbe4d07e-feaf-46e6-bb37-0db28fdd5e65",
   "metadata": {},
   "source": [
    "Funciona porque:  \n",
    "- `data` tem shape `(5, 3)`  \n",
    "- `mean` e `std` têm shape `(3,)` → automaticamente ajustados para `(1, 3)` → `(5, 3)`."
   ]
  },
  {
   "cell_type": "markdown",
   "id": "be84c3e3-2e2f-4c88-9bd0-67efe2ad0128",
   "metadata": {},
   "source": [
    "## 4️⃣ Casos Especiais Avançados\n",
    "#### 🔺 Adicionando Dimensões com `np.newaxis`"
   ]
  },
  {
   "cell_type": "code",
   "execution_count": 8,
   "id": "b061da1c-8104-4149-8cd5-7d337fba4ef3",
   "metadata": {},
   "outputs": [
    {
     "name": "stdout",
     "output_type": "stream",
     "text": [
      "[[1]\n",
      " [2]\n",
      " [3]]\n"
     ]
    }
   ],
   "source": [
    "a = np.array([1, 2, 3])  # Shape (3,)\n",
    "a_col = a[:, np.newaxis] # Shape (3, 1)\n",
    "print(a_col)"
   ]
  },
  {
   "cell_type": "markdown",
   "id": "d546b81b-564f-4f33-8526-56e60a628f9b",
   "metadata": {},
   "source": [
    "##### Saída:  \n",
    "[[1]  \n",
    " [2]  \n",
    " [3]]  "
   ]
  },
  {
   "cell_type": "markdown",
   "id": "3b4c14ed-d999-412b-a3d6-8590c5e2e0d1",
   "metadata": {},
   "source": [
    "#### 🔻 Broadcasting em Operações com Matrizes"
   ]
  },
  {
   "cell_type": "code",
   "execution_count": 9,
   "id": "2d973ada-0313-45c0-b8c8-b4589f747b97",
   "metadata": {},
   "outputs": [
    {
     "name": "stdout",
     "output_type": "stream",
     "text": [
      "[[10 40]\n",
      " [30 80]]\n"
     ]
    }
   ],
   "source": [
    "A = np.array([[1, 2], [3, 4]])  # (2, 2)\n",
    "v = np.array([10, 20])          # (2,)\n",
    "print(A * v)  # Multiplicação elemento a elemento (broadcasting)"
   ]
  },
  {
   "cell_type": "markdown",
   "id": "d2373429-7d56-4ed8-b99c-c47962a0289d",
   "metadata": {},
   "source": [
    "#### Saída:  \n",
    "[[10 40]  \n",
    " [30 80]]"
   ]
  },
  {
   "cell_type": "markdown",
   "id": "13284065-df7f-4feb-853d-eb5b00988b65",
   "metadata": {},
   "source": [
    "## 5️⃣ Resumo\n",
    "✔ Broadcasting permite operações entre arrays de shapes diferentes.  \n",
    "✔ Funciona quando as dimensões são compatíveis (iguais ou 1).  \n",
    "✔ Muito útil em normalização, álgebra linear e machine learning!  "
   ]
  }
 ],
 "metadata": {
  "kernelspec": {
   "display_name": "Python [conda env:base] *",
   "language": "python",
   "name": "conda-base-py"
  },
  "language_info": {
   "codemirror_mode": {
    "name": "ipython",
    "version": 3
   },
   "file_extension": ".py",
   "mimetype": "text/x-python",
   "name": "python",
   "nbconvert_exporter": "python",
   "pygments_lexer": "ipython3",
   "version": "3.12.7"
  }
 },
 "nbformat": 4,
 "nbformat_minor": 5
}
