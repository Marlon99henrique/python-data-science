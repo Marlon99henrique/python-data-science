{
 "cells": [
  {
   "cell_type": "markdown",
   "id": "bde3edd6-1e3c-489f-aa6c-1ce6b62e4305",
   "metadata": {},
   "source": [
    "# ⚡ Funções Avançadas no NumPy\n",
    "\n",
    "Este notebook apresenta **funcionalidades avançadas do NumPy**, indo além das operações básicas e de álgebra linear.  \n",
    "O objetivo é demonstrar como explorar **funções universais (ufuncs)**, **broadcasting**, agregações e estatísticas, úteis em projetos de **Ciência de Dados**.\n",
    "\n",
    "---\n",
    "\n",
    "## 📌 Conteúdo\n",
    "1. Funções universais (ufuncs)\n",
    "2. Broadcasting\n",
    "3. Estatísticas descritivas\n",
    "4. Funções matemáticas avançadas\n",
    "5. Agregações em eixos\n",
    "6. Ordenação e seleção\n",
    "\n",
    "---\n",
    "\n",
    "### 🚀 Importando o NumPy"
   ]
  },
  {
   "cell_type": "code",
   "execution_count": 3,
   "id": "1e8f2ba4-02ba-4df2-8a8b-bb1267ec64d3",
   "metadata": {},
   "outputs": [],
   "source": [
    "import numpy as np"
   ]
  },
  {
   "cell_type": "markdown",
   "id": "88a76c20-110b-4224-83cd-e58d7effbd48",
   "metadata": {},
   "source": [
    "## 1️⃣ Funções universais (ufuncs)\n",
    "\n",
    "São operações **vetorizadas** aplicadas em arrays, muito mais rápidas que loops em Python."
   ]
  },
  {
   "cell_type": "code",
   "execution_count": 4,
   "id": "c55ba4e9-202d-4572-8ab3-9d6b3c3d4726",
   "metadata": {},
   "outputs": [
    {
     "name": "stdout",
     "output_type": "stream",
     "text": [
      "Quadrado: [ 1  4  9 16 25]\n",
      "Raiz quadrada: [1.         1.41421356 1.73205081 2.         2.23606798]\n",
      "Exponencial: [  2.71828183   7.3890561   20.08553692  54.59815003 148.4131591 ]\n",
      "Logaritmo natural: [0.         0.69314718 1.09861229 1.38629436 1.60943791]\n"
     ]
    }
   ],
   "source": [
    "x = np.array([1, 2, 3, 4, 5])\n",
    "\n",
    "print(\"Quadrado:\", np.square(x))\n",
    "print(\"Raiz quadrada:\", np.sqrt(x))\n",
    "print(\"Exponencial:\", np.exp(x))\n",
    "print(\"Logaritmo natural:\", np.log(x))\n"
   ]
  },
  {
   "cell_type": "markdown",
   "id": "211d3df3-c44a-499c-9f71-7bb30a9f6015",
   "metadata": {},
   "source": [
    "## 2️⃣ Broadcasting  \n",
    "Permite operações entre arrays de dimensões diferentes."
   ]
  },
  {
   "cell_type": "code",
   "execution_count": 5,
   "id": "ef70b5a3-cb3e-4680-8525-83f464812142",
   "metadata": {},
   "outputs": [
    {
     "name": "stdout",
     "output_type": "stream",
     "text": [
      "Array A:\n",
      " [[1 2 3]\n",
      " [4 5 6]]\n",
      "Array b:\n",
      " [10 20 30]\n",
      "A + b:\n",
      " [[11 22 33]\n",
      " [14 25 36]]\n"
     ]
    }
   ],
   "source": [
    "A = np.array([[1, 2, 3], [4, 5, 6]])\n",
    "b = np.array([10, 20, 30])\n",
    "\n",
    "print(\"Array A:\\n\", A)\n",
    "print(\"Array b:\\n\", b)\n",
    "\n",
    "# Broadcasting adiciona b a cada linha de A\n",
    "print(\"A + b:\\n\", A + b)\n"
   ]
  },
  {
   "cell_type": "markdown",
   "id": "7fae6081-40fe-4660-b6af-4c7cbe3bd9ce",
   "metadata": {},
   "source": [
    "## 3️⃣ Estatísticas descritivas"
   ]
  },
  {
   "cell_type": "code",
   "execution_count": 6,
   "id": "b4141ee2-25fd-4fc8-b9ed-8adddc3837f2",
   "metadata": {},
   "outputs": [
    {
     "name": "stdout",
     "output_type": "stream",
     "text": [
      "Média: -0.009535102971162552\n",
      "Mediana: -0.02814630881328039\n",
      "Desvio padrão: 0.9822369050260789\n",
      "Mínimo: -3.016449098392563\n",
      "Máximo: 3.9496882427825173\n"
     ]
    }
   ],
   "source": [
    "dados = np.random.randn(1000)  # 1000 números aleatórios (distribuição normal)\n",
    "\n",
    "print(\"Média:\", np.mean(dados))\n",
    "print(\"Mediana:\", np.median(dados))\n",
    "print(\"Desvio padrão:\", np.std(dados))\n",
    "print(\"Mínimo:\", np.min(dados))\n",
    "print(\"Máximo:\", np.max(dados))\n"
   ]
  },
  {
   "cell_type": "markdown",
   "id": "60032da4-32a9-46e6-a23e-94f88365f453",
   "metadata": {},
   "source": [
    "## 4️⃣ Funções matemáticas avançadas"
   ]
  },
  {
   "cell_type": "code",
   "execution_count": 7,
   "id": "ee6ac291-f412-41f6-a978-af761795726c",
   "metadata": {},
   "outputs": [
    {
     "name": "stdout",
     "output_type": "stream",
     "text": [
      "Seno: [0.00000000e+00 7.07106781e-01 1.00000000e+00 7.07106781e-01\n",
      " 1.22464680e-16]\n",
      "Cosseno: [ 1.00000000e+00  7.07106781e-01  6.12323400e-17 -7.07106781e-01\n",
      " -1.00000000e+00]\n",
      "Tangente: [ 0.00000000e+00  1.00000000e+00  1.63312394e+16 -1.00000000e+00\n",
      " -1.22464680e-16]\n"
     ]
    }
   ],
   "source": [
    "angulos = np.linspace(0, np.pi, 5)\n",
    "\n",
    "print(\"Seno:\", np.sin(angulos))\n",
    "print(\"Cosseno:\", np.cos(angulos))\n",
    "print(\"Tangente:\", np.tan(angulos))\n"
   ]
  },
  {
   "cell_type": "markdown",
   "id": "26c15839-7146-43bc-aab9-547f4e5e51d3",
   "metadata": {},
   "source": [
    "## 5️⃣ Agregações em eixos"
   ]
  },
  {
   "cell_type": "code",
   "execution_count": 8,
   "id": "b92b27d1-aae7-4b3d-b9f1-920fc2cde42f",
   "metadata": {},
   "outputs": [
    {
     "name": "stdout",
     "output_type": "stream",
     "text": [
      "Soma total: 21\n",
      "Soma por linha: [ 6 15]\n",
      "Soma por coluna: [5 7 9]\n"
     ]
    }
   ],
   "source": [
    "M = np.array([[1, 2, 3], [4, 5, 6]])\n",
    "\n",
    "print(\"Soma total:\", np.sum(M))\n",
    "print(\"Soma por linha:\", np.sum(M, axis=1))\n",
    "print(\"Soma por coluna:\", np.sum(M, axis=0))\n"
   ]
  },
  {
   "cell_type": "markdown",
   "id": "fb0ab1c4-89aa-4f6b-beec-0bd3e40da865",
   "metadata": {},
   "source": [
    "## 6️⃣ Ordenação e seleção"
   ]
  },
  {
   "cell_type": "code",
   "execution_count": 9,
   "id": "7cc07116-3df4-464b-ba49-edc83816515d",
   "metadata": {},
   "outputs": [
    {
     "name": "stdout",
     "output_type": "stream",
     "text": [
      "Array original: [7 2 9 4 1]\n",
      "Ordenado: [1 2 4 7 9]\n",
      "Índices ordenados: [4 1 3 0 2]\n",
      "Top 3 valores: [4 7 9]\n"
     ]
    }
   ],
   "source": [
    "valores = np.array([7, 2, 9, 4, 1])\n",
    "\n",
    "print(\"Array original:\", valores)\n",
    "print(\"Ordenado:\", np.sort(valores))\n",
    "print(\"Índices ordenados:\", np.argsort(valores))\n",
    "\n",
    "# Selecionando os 3 maiores valores\n",
    "indices = np.argsort(valores)[-3:]\n",
    "print(\"Top 3 valores:\", valores[indices])\n"
   ]
  },
  {
   "cell_type": "markdown",
   "id": "e7da381e-8719-41ff-a45c-dc2073f9937b",
   "metadata": {},
   "source": [
    "✅ Este notebook mostra **habilidades avançadas com NumPy**, incluindo estatísticas, funções matemáticas e técnicas de manipulação eficientes, muito usadas em **Ciência de Dados e Machine Learning**.\n"
   ]
  },
  {
   "cell_type": "code",
   "execution_count": null,
   "id": "0a8ec303-b776-4878-aa26-085b4ba8fc7c",
   "metadata": {},
   "outputs": [],
   "source": []
  }
 ],
 "metadata": {
  "kernelspec": {
   "display_name": "Python [conda env:base] *",
   "language": "python",
   "name": "conda-base-py"
  },
  "language_info": {
   "codemirror_mode": {
    "name": "ipython",
    "version": 3
   },
   "file_extension": ".py",
   "mimetype": "text/x-python",
   "name": "python",
   "nbconvert_exporter": "python",
   "pygments_lexer": "ipython3",
   "version": "3.12.7"
  }
 },
 "nbformat": 4,
 "nbformat_minor": 5
}
