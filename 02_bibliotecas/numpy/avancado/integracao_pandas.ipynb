{
 "cells": [
  {
   "cell_type": "markdown",
   "id": "d346104f-2445-44e9-a834-9077b99190dc",
   "metadata": {},
   "source": [
    "# 🔗 Integração NumPy + Pandas\n",
    "\n",
    "Este notebook demonstra como **integrar NumPy e Pandas**, aproveitando o poder numérico do NumPy e a manipulação de dados estruturados do Pandas.  \n",
    "O objetivo é mostrar habilidades práticas de **pré-processamento e análise de dados**, essenciais em projetos de **Ciência de Dados**.\n",
    "\n",
    "---\n",
    "\n",
    "## 1️⃣ Criando DataFrames a partir de arrays NumPy"
   ]
  },
  {
   "cell_type": "code",
   "execution_count": 1,
   "id": "cd472712-f155-4642-9c4a-5c562f225615",
   "metadata": {},
   "outputs": [
    {
     "data": {
      "text/html": [
       "<div>\n",
       "<style scoped>\n",
       "    .dataframe tbody tr th:only-of-type {\n",
       "        vertical-align: middle;\n",
       "    }\n",
       "\n",
       "    .dataframe tbody tr th {\n",
       "        vertical-align: top;\n",
       "    }\n",
       "\n",
       "    .dataframe thead th {\n",
       "        text-align: right;\n",
       "    }\n",
       "</style>\n",
       "<table border=\"1\" class=\"dataframe\">\n",
       "  <thead>\n",
       "    <tr style=\"text-align: right;\">\n",
       "      <th></th>\n",
       "      <th>A</th>\n",
       "      <th>B</th>\n",
       "      <th>C</th>\n",
       "    </tr>\n",
       "  </thead>\n",
       "  <tbody>\n",
       "    <tr>\n",
       "      <th>0</th>\n",
       "      <td>1</td>\n",
       "      <td>2</td>\n",
       "      <td>3</td>\n",
       "    </tr>\n",
       "    <tr>\n",
       "      <th>1</th>\n",
       "      <td>4</td>\n",
       "      <td>5</td>\n",
       "      <td>6</td>\n",
       "    </tr>\n",
       "    <tr>\n",
       "      <th>2</th>\n",
       "      <td>7</td>\n",
       "      <td>8</td>\n",
       "      <td>9</td>\n",
       "    </tr>\n",
       "  </tbody>\n",
       "</table>\n",
       "</div>"
      ],
      "text/plain": [
       "   A  B  C\n",
       "0  1  2  3\n",
       "1  4  5  6\n",
       "2  7  8  9"
      ]
     },
     "execution_count": 1,
     "metadata": {},
     "output_type": "execute_result"
    }
   ],
   "source": [
    "import numpy as np\n",
    "import pandas as pd\n",
    "\n",
    "# Criando um array NumPy\n",
    "arr = np.array([\n",
    "    [1, 2, 3],\n",
    "    [4, 5, 6],\n",
    "    [7, 8, 9]\n",
    "])\n",
    "\n",
    "# Convertendo para DataFrame\n",
    "df = pd.DataFrame(arr, columns=['A', 'B', 'C'])\n",
    "df"
   ]
  },
  {
   "cell_type": "markdown",
   "id": "c9e7c88c-5a7f-4d62-9aa2-872473c74567",
   "metadata": {},
   "source": [
    "## 2️⃣ Operações vetorizadas em DataFrames"
   ]
  },
  {
   "cell_type": "code",
   "execution_count": 2,
   "id": "a4c8973c-97b6-4864-ae2d-84c6ba2c25fa",
   "metadata": {},
   "outputs": [
    {
     "data": {
      "text/html": [
       "<div>\n",
       "<style scoped>\n",
       "    .dataframe tbody tr th:only-of-type {\n",
       "        vertical-align: middle;\n",
       "    }\n",
       "\n",
       "    .dataframe tbody tr th {\n",
       "        vertical-align: top;\n",
       "    }\n",
       "\n",
       "    .dataframe thead th {\n",
       "        text-align: right;\n",
       "    }\n",
       "</style>\n",
       "<table border=\"1\" class=\"dataframe\">\n",
       "  <thead>\n",
       "    <tr style=\"text-align: right;\">\n",
       "      <th></th>\n",
       "      <th>A</th>\n",
       "      <th>B</th>\n",
       "      <th>C</th>\n",
       "    </tr>\n",
       "  </thead>\n",
       "  <tbody>\n",
       "    <tr>\n",
       "      <th>0</th>\n",
       "      <td>11</td>\n",
       "      <td>12</td>\n",
       "      <td>13</td>\n",
       "    </tr>\n",
       "    <tr>\n",
       "      <th>1</th>\n",
       "      <td>14</td>\n",
       "      <td>15</td>\n",
       "      <td>16</td>\n",
       "    </tr>\n",
       "    <tr>\n",
       "      <th>2</th>\n",
       "      <td>17</td>\n",
       "      <td>18</td>\n",
       "      <td>19</td>\n",
       "    </tr>\n",
       "  </tbody>\n",
       "</table>\n",
       "</div>"
      ],
      "text/plain": [
       "    A   B   C\n",
       "0  11  12  13\n",
       "1  14  15  16\n",
       "2  17  18  19"
      ]
     },
     "execution_count": 2,
     "metadata": {},
     "output_type": "execute_result"
    }
   ],
   "source": [
    "# Somando 10 a todos os valores do DataFrame\n",
    "df_soma = df + 10\n",
    "df_soma\n"
   ]
  },
  {
   "cell_type": "markdown",
   "id": "5d70547c-6ee5-435d-91b1-c8457c6e0f00",
   "metadata": {},
   "source": [
    " **Vantagem**: operações vetorizadas do NumPy aplicadas diretamente no DataFrame, garantindo **eficiência** e **performance**."
   ]
  },
  {
   "cell_type": "markdown",
   "id": "66f16df4-aa59-4009-86dc-a820b62cc634",
   "metadata": {},
   "source": [
    "## 3️⃣ Estatísticas com NumPy aplicadas a DataFrames"
   ]
  },
  {
   "cell_type": "code",
   "execution_count": 3,
   "id": "3ed526fc-2d71-4eaf-bdc4-5bc31d36befd",
   "metadata": {},
   "outputs": [
    {
     "data": {
      "text/plain": [
       "array([4., 5., 6.])"
      ]
     },
     "execution_count": 3,
     "metadata": {},
     "output_type": "execute_result"
    }
   ],
   "source": [
    "# Média por coluna usando NumPy\n",
    "media_colunas = np.mean(df.values, axis=0)\n",
    "media_colunas\n"
   ]
  },
  {
   "cell_type": "markdown",
   "id": "f444d09a-c50a-4cbe-b745-0bdf9f1fc8dc",
   "metadata": {},
   "source": [
    "`df.values` retorna os dados como array NumPy, permitindo aplicar funções rápidas e eficientes."
   ]
  },
  {
   "cell_type": "markdown",
   "id": "74c0db7b-9be4-4087-9bd7-e58fa51073ce",
   "metadata": {},
   "source": [
    "## 4️⃣ Aplicando funções personalizadas com NumPy"
   ]
  },
  {
   "cell_type": "code",
   "execution_count": 4,
   "id": "f253ebb3-d1c5-40ed-8c98-5a159ed7044c",
   "metadata": {},
   "outputs": [
    {
     "name": "stderr",
     "output_type": "stream",
     "text": [
      "C:\\Users\\marlo\\AppData\\Local\\Temp\\ipykernel_15080\\1964362208.py:5: FutureWarning: DataFrame.applymap has been deprecated. Use DataFrame.map instead.\n",
      "  df_transformado = df.applymap(transforma)\n"
     ]
    },
    {
     "data": {
      "text/html": [
       "<div>\n",
       "<style scoped>\n",
       "    .dataframe tbody tr th:only-of-type {\n",
       "        vertical-align: middle;\n",
       "    }\n",
       "\n",
       "    .dataframe tbody tr th {\n",
       "        vertical-align: top;\n",
       "    }\n",
       "\n",
       "    .dataframe thead th {\n",
       "        text-align: right;\n",
       "    }\n",
       "</style>\n",
       "<table border=\"1\" class=\"dataframe\">\n",
       "  <thead>\n",
       "    <tr style=\"text-align: right;\">\n",
       "      <th></th>\n",
       "      <th>A</th>\n",
       "      <th>B</th>\n",
       "      <th>C</th>\n",
       "    </tr>\n",
       "  </thead>\n",
       "  <tbody>\n",
       "    <tr>\n",
       "      <th>0</th>\n",
       "      <td>0.693147</td>\n",
       "      <td>1.553672</td>\n",
       "      <td>2.401132</td>\n",
       "    </tr>\n",
       "    <tr>\n",
       "      <th>1</th>\n",
       "      <td>3.218876</td>\n",
       "      <td>4.006496</td>\n",
       "      <td>4.766487</td>\n",
       "    </tr>\n",
       "    <tr>\n",
       "      <th>2</th>\n",
       "      <td>5.501685</td>\n",
       "      <td>6.214690</td>\n",
       "      <td>6.907755</td>\n",
       "    </tr>\n",
       "  </tbody>\n",
       "</table>\n",
       "</div>"
      ],
      "text/plain": [
       "          A         B         C\n",
       "0  0.693147  1.553672  2.401132\n",
       "1  3.218876  4.006496  4.766487\n",
       "2  5.501685  6.214690  6.907755"
      ]
     },
     "execution_count": 4,
     "metadata": {},
     "output_type": "execute_result"
    }
   ],
   "source": [
    "# Função que calcula raiz quadrada e log\n",
    "def transforma(x):\n",
    "    return np.sqrt(x) * np.log(x + 1)\n",
    "\n",
    "df_transformado = df.applymap(transforma)\n",
    "df_transformado\n"
   ]
  },
  {
   "cell_type": "markdown",
   "id": "eef95613-4921-4135-a49c-32d316556e52",
   "metadata": {},
   "source": [
    "Mostra como **combinar funções matemáticas do NumPy com a estrutura do Pandas**"
   ]
  },
  {
   "cell_type": "markdown",
   "id": "1b7b50e9-8135-429e-8c8a-8f057729fcec",
   "metadata": {},
   "source": [
    "## 5️⃣ Criando colunas a partir de arrays NumPy"
   ]
  },
  {
   "cell_type": "code",
   "execution_count": 5,
   "id": "1d6560cd-5d74-441a-92c4-106198afb0b7",
   "metadata": {},
   "outputs": [
    {
     "data": {
      "text/html": [
       "<div>\n",
       "<style scoped>\n",
       "    .dataframe tbody tr th:only-of-type {\n",
       "        vertical-align: middle;\n",
       "    }\n",
       "\n",
       "    .dataframe tbody tr th {\n",
       "        vertical-align: top;\n",
       "    }\n",
       "\n",
       "    .dataframe thead th {\n",
       "        text-align: right;\n",
       "    }\n",
       "</style>\n",
       "<table border=\"1\" class=\"dataframe\">\n",
       "  <thead>\n",
       "    <tr style=\"text-align: right;\">\n",
       "      <th></th>\n",
       "      <th>A</th>\n",
       "      <th>B</th>\n",
       "      <th>C</th>\n",
       "      <th>D</th>\n",
       "    </tr>\n",
       "  </thead>\n",
       "  <tbody>\n",
       "    <tr>\n",
       "      <th>0</th>\n",
       "      <td>1</td>\n",
       "      <td>2</td>\n",
       "      <td>3</td>\n",
       "      <td>10</td>\n",
       "    </tr>\n",
       "    <tr>\n",
       "      <th>1</th>\n",
       "      <td>4</td>\n",
       "      <td>5</td>\n",
       "      <td>6</td>\n",
       "      <td>20</td>\n",
       "    </tr>\n",
       "    <tr>\n",
       "      <th>2</th>\n",
       "      <td>7</td>\n",
       "      <td>8</td>\n",
       "      <td>9</td>\n",
       "      <td>30</td>\n",
       "    </tr>\n",
       "  </tbody>\n",
       "</table>\n",
       "</div>"
      ],
      "text/plain": [
       "   A  B  C   D\n",
       "0  1  2  3  10\n",
       "1  4  5  6  20\n",
       "2  7  8  9  30"
      ]
     },
     "execution_count": 5,
     "metadata": {},
     "output_type": "execute_result"
    }
   ],
   "source": [
    "# Array NumPy com dados extras\n",
    "nova_coluna = np.array([10, 20, 30])\n",
    "\n",
    "# Adicionando ao DataFrame\n",
    "df['D'] = nova_coluna\n",
    "df\n"
   ]
  },
  {
   "cell_type": "markdown",
   "id": "d824fd7d-ea01-4522-97dc-9baeac236f7e",
   "metadata": {},
   "source": [
    "Facilita a **criação e manipulação de datasets completos**."
   ]
  },
  {
   "cell_type": "markdown",
   "id": "969281d9-e755-4cd2-a4d8-2741e347c408",
   "metadata": {},
   "source": [
    "## ✅ Conclusão \n",
    "Este notebook demonstrou como: \n",
    "- Criar e manipular DataFrames a partir de arrays NumPy \n",
    "- Aplicar **operações vetorizadas** diretamente em DataFrames \n",
    "- Usar funções matemáticas do NumPy para transformações avançadas \n",
    "- Integrar dados numéricos de forma prática e eficient"
   ]
  },
  {
   "cell_type": "code",
   "execution_count": null,
   "id": "108f3fb3-0e5f-484f-b6f1-80b614e34193",
   "metadata": {},
   "outputs": [],
   "source": []
  }
 ],
 "metadata": {
  "kernelspec": {
   "display_name": "Python [conda env:base] *",
   "language": "python",
   "name": "conda-base-py"
  },
  "language_info": {
   "codemirror_mode": {
    "name": "ipython",
    "version": 3
   },
   "file_extension": ".py",
   "mimetype": "text/x-python",
   "name": "python",
   "nbconvert_exporter": "python",
   "pygments_lexer": "ipython3",
   "version": "3.12.7"
  }
 },
 "nbformat": 4,
 "nbformat_minor": 5
}
