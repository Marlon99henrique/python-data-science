{
 "cells": [
  {
   "cell_type": "markdown",
   "id": "0fb43dbe-4753-4ee0-8e5c-c6e3976cb96f",
   "metadata": {},
   "source": [
    "# 🚀 NumPy — Comparação de Performance\n",
    "\n",
    "Este notebook demonstra **comparação de performance entre diferentes abordagens de operações numéricas** no NumPy, mostrando técnicas para **otimização e vetorização**.  \n",
    "O objetivo é evidenciar como pequenas mudanças podem melhorar significativamente a velocidade e o uso de memória, habilidades essenciais para **Ciência de Dados e Machine Learning**.\n",
    "\n",
    "---\n",
    "\n",
    "## 1️⃣ Operações com loops vs vetorização\n"
   ]
  },
  {
   "cell_type": "code",
   "execution_count": 4,
   "id": "52525295-c9bb-4bd7-ac80-df5d86cc52fe",
   "metadata": {},
   "outputs": [
    {
     "name": "stderr",
     "output_type": "stream",
     "text": [
      "C:\\Users\\marlo\\AppData\\Local\\Temp\\ipykernel_29320\\2324501683.py:11: RuntimeWarning: overflow encountered in scalar add\n",
      "  soma += x\n"
     ]
    },
    {
     "name": "stdout",
     "output_type": "stream",
     "text": [
      "Loop Python: 0.38979578018188477 segundos\n",
      "Vetorizado NumPy: 0.0009815692901611328 segundos\n"
     ]
    }
   ],
   "source": [
    "import numpy as np\n",
    "import time\n",
    "\n",
    "# Criando um array grande\n",
    "arr = np.arange(1_000_000)\n",
    "\n",
    "# Soma usando loop Python\n",
    "start = time.time()\n",
    "soma = 0\n",
    "for x in arr:\n",
    "    soma += x\n",
    "print('Loop Python:', time.time() - start, 'segundos')\n",
    "\n",
    "# Soma usando NumPy (vetorizado)\n",
    "start = time.time()\n",
    "soma_np = np.sum(arr)\n",
    "print('Vetorizado NumPy:', time.time() - start, 'segundos')"
   ]
  },
  {
   "cell_type": "markdown",
   "id": "33ff25c8-4e22-485d-92e0-1324bde4bb24",
   "metadata": {},
   "source": [
    "## 2️⃣ Uso de funções universais (ufuncs)\n",
    "\n",
    "Comparação de funções universais do NumPy com operações manuais."
   ]
  },
  {
   "cell_type": "code",
   "execution_count": 5,
   "id": "0b9ead4c-2a1e-4536-ae9f-1d51a1fba5da",
   "metadata": {},
   "outputs": [
    {
     "name": "stdout",
     "output_type": "stream",
     "text": [
      "Loop manual: 0.2708466053009033 segundos\n",
      "ufunc np.multiply: 0.0019974708557128906 segundos\n"
     ]
    }
   ],
   "source": [
    "# Operação elementwise manual vs ufunc\n",
    "arr2 = np.arange(1_000_000)\n",
    "\n",
    "# Multiplicação manual (loop)\n",
    "start = time.time()\n",
    "resultado = [x*2 for x in arr2]\n",
    "print('Loop manual:', time.time() - start, 'segundos')\n",
    "\n",
    "# Multiplicação usando ufunc\n",
    "start = time.time()\n",
    "resultado_np = np.multiply(arr2, 2)\n",
    "print('ufunc np.multiply:', time.time() - start, 'segundos')\n"
   ]
  },
  {
   "cell_type": "markdown",
   "id": "ec7c67d5-c92f-40d2-a74c-79954e610260",
   "metadata": {},
   "source": [
    "## 3️⃣ Diferença entre arrays e listas"
   ]
  },
  {
   "cell_type": "code",
   "execution_count": 6,
   "id": "6f314c54-4af0-43f4-8d1c-9eb15878734c",
   "metadata": {},
   "outputs": [
    {
     "name": "stdout",
     "output_type": "stream",
     "text": [
      "Tamanho em memória - lista: 8000056 bytes\n",
      "Tamanho em memória - array: 4000000 bytes\n"
     ]
    }
   ],
   "source": [
    "import sys\n",
    "\n",
    "lista = list(range(1_000_000))\n",
    "array = np.arange(1_000_000)\n",
    "\n",
    "print('Tamanho em memória - lista:', sys.getsizeof(lista), 'bytes')\n",
    "print('Tamanho em memória - array:', array.nbytes, 'bytes')\n"
   ]
  },
  {
   "cell_type": "markdown",
   "id": "7d2e6d66-d476-46fa-ab26-b0df95dafbf8",
   "metadata": {},
   "source": [
    "## 4️⃣ Memory layout: cópias vs views"
   ]
  },
  {
   "cell_type": "code",
   "execution_count": 7,
   "id": "8b95a95b-7b68-4aa0-96b0-d9b365f89b81",
   "metadata": {},
   "outputs": [
    {
     "name": "stdout",
     "output_type": "stream",
     "text": [
      "View compartilha memória: True\n",
      "Copy não compartilha memória: False\n"
     ]
    }
   ],
   "source": [
    "arr_original = np.arange(10_000_000)\n",
    "\n",
    "# Criando view\n",
    "arr_view = arr_original[:]\n",
    "# Criando cópia\n",
    "arr_copy = arr_original.copy()\n",
    "\n",
    "print('View compartilha memória:', arr_view.base is arr_original)\n",
    "print('Copy não compartilha memória:', arr_copy.base is arr_original)\n"
   ]
  },
  {
   "cell_type": "markdown",
   "id": "dd374f2d-be12-454a-a261-86c46640357b",
   "metadata": {},
   "source": [
    "## 5️⃣ Casos práticos\n",
    "\n",
    "Simulação de dataset grande e demonstração de ganho de performance usando vetorização e broadcasting."
   ]
  },
  {
   "cell_type": "code",
   "execution_count": 8,
   "id": "5af31470-6970-4724-98a8-e458441ffeba",
   "metadata": {},
   "outputs": [
    {
     "name": "stdout",
     "output_type": "stream",
     "text": [
      "Operação vetorizada: 0.31378746032714844 segundos\n"
     ]
    }
   ],
   "source": [
    "# Criando dataset grande\n",
    "data = np.random.rand(10_000_000)\n",
    "\n",
    "# Operação vetorizada\n",
    "start = time.time()\n",
    "resultado = np.sqrt(data) * np.log(data + 1)\n",
    "print('Operação vetorizada:', time.time() - start, 'segundos')\n"
   ]
  },
  {
   "cell_type": "markdown",
   "id": "cb2c942d-c2b0-4bf6-8742-b7320884dd37",
   "metadata": {},
   "source": [
    "## ✅ Conclusão  \n",
    "Este notebook demonstrou como **otimizar operações numéricas no NumPy**, comparando:  \n",
    "- Loops vs vetorização  \n",
    "- Funções universais (ufuncs)  \n",
    "- Arrays vs listas \n",
    "Uso eficiente de memória com cópias e views  \n",
    "Essas técnicas são fundamentais para **trabalhar com datasets grandes em Ciência de Dados e Machine Learning**."
   ]
  },
  {
   "cell_type": "code",
   "execution_count": null,
   "id": "b521655a-a66d-4768-8c0c-61f4563bd355",
   "metadata": {},
   "outputs": [],
   "source": []
  }
 ],
 "metadata": {
  "kernelspec": {
   "display_name": "Python [conda env:base] *",
   "language": "python",
   "name": "conda-base-py"
  },
  "language_info": {
   "codemirror_mode": {
    "name": "ipython",
    "version": 3
   },
   "file_extension": ".py",
   "mimetype": "text/x-python",
   "name": "python",
   "nbconvert_exporter": "python",
   "pygments_lexer": "ipython3",
   "version": "3.12.7"
  }
 },
 "nbformat": 4,
 "nbformat_minor": 5
}
