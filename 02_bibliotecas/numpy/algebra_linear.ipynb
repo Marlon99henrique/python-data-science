{
 "cells": [
  {
   "cell_type": "markdown",
   "id": "e9ad56e4-c672-420d-8682-51137baf1022",
   "metadata": {},
   "source": [
    "# 🔢 Álgebra Linear com NumPy\n",
    "\n",
    "Este notebook demonstra como utilizar o **NumPy** para resolver problemas comuns de **álgebra linear**, como multiplicação de matrizes, sistemas de equações e decomposições.\n",
    "\n",
    "---\n",
    "\n",
    "## 📌 Conteúdo\n",
    "1. Criação de matrizes\n",
    "2. Multiplicação de matrizes\n",
    "3. Transposição e inversa\n",
    "4. Determinante\n",
    "5. Autovalores e autovetores\n",
    "6. Resolução de sistemas lineares\n",
    "\n",
    "---\n",
    "\n",
    "## 🚀 Importando o NumPy"
   ]
  },
  {
   "cell_type": "code",
   "execution_count": 9,
   "id": "350a9373-8d2a-49b0-a6f6-6d5efed7e9de",
   "metadata": {},
   "outputs": [],
   "source": [
    "import numpy as np"
   ]
  },
  {
   "cell_type": "markdown",
   "id": "3e9a67fb-ec62-4ef3-9b38-3d08f2639a49",
   "metadata": {},
   "source": [
    "## 1️⃣ Criando matrizes"
   ]
  },
  {
   "cell_type": "code",
   "execution_count": 2,
   "id": "be2e78ff-8f32-4460-ac1c-18ac484a5f8f",
   "metadata": {},
   "outputs": [
    {
     "name": "stdout",
     "output_type": "stream",
     "text": [
      "Matriz A:\n",
      " [[1 2]\n",
      " [3 4]]\n",
      "Matriz B:\n",
      " [[5 6]\n",
      " [7 8]]\n"
     ]
    }
   ],
   "source": [
    "A = np.array([[1, 2], [3, 4]])\n",
    "B = np.array([[5, 6], [7, 8]])\n",
    "\n",
    "print(\"Matriz A:\\n\", A)\n",
    "print(\"Matriz B:\\n\", B)\n"
   ]
  },
  {
   "cell_type": "markdown",
   "id": "6cc55668-fce0-4f8b-94b3-49a8f9c3a30f",
   "metadata": {},
   "source": [
    "## 2️⃣ Multiplicação de matrizes"
   ]
  },
  {
   "cell_type": "code",
   "execution_count": 3,
   "id": "3328e46d-5b0f-4784-8e95-2a86a1f05fb5",
   "metadata": {},
   "outputs": [
    {
     "name": "stdout",
     "output_type": "stream",
     "text": [
      "A x B:\n",
      " [[19 22]\n",
      " [43 50]]\n",
      "A * B:\n",
      " [[ 5 12]\n",
      " [21 32]]\n"
     ]
    }
   ],
   "source": [
    "# Produto matricial\n",
    "print(\"A x B:\\n\", np.dot(A, B))\n",
    "\n",
    "# Multiplicação elemento a elemento\n",
    "print(\"A * B:\\n\", A * B)\n"
   ]
  },
  {
   "cell_type": "markdown",
   "id": "ad338254-5bcf-40f6-9348-8beb21f7191e",
   "metadata": {},
   "source": [
    "## 3️⃣ Transposição e inversa"
   ]
  },
  {
   "cell_type": "code",
   "execution_count": 4,
   "id": "8fc0aa17-57d4-495a-9f42-e337c203c281",
   "metadata": {},
   "outputs": [
    {
     "name": "stdout",
     "output_type": "stream",
     "text": [
      "Transposta de A:\n",
      " [[1 3]\n",
      " [2 4]]\n",
      "Inversa de A:\n",
      " [[-2.   1. ]\n",
      " [ 1.5 -0.5]]\n",
      "A x A_inv:\n",
      " [[1.00000000e+00 1.11022302e-16]\n",
      " [0.00000000e+00 1.00000000e+00]]\n"
     ]
    }
   ],
   "source": [
    "print(\"Transposta de A:\\n\", A.T)\n",
    "\n",
    "# Inversa de A\n",
    "A_inv = np.linalg.inv(A)\n",
    "print(\"Inversa de A:\\n\", A_inv)\n",
    "\n",
    "# Verificação: A * A_inv ≈ Identidade\n",
    "print(\"A x A_inv:\\n\", np.dot(A, A_inv))\n"
   ]
  },
  {
   "cell_type": "markdown",
   "id": "c4db0425-cb61-4159-81d1-b29cc1bd4b88",
   "metadata": {},
   "source": [
    "## 4️⃣ Determinante"
   ]
  },
  {
   "cell_type": "code",
   "execution_count": 5,
   "id": "74cdfefe-1dcb-494d-8b58-a4023217a581",
   "metadata": {},
   "outputs": [
    {
     "name": "stdout",
     "output_type": "stream",
     "text": [
      "Determinante de A: -2.0000000000000004\n"
     ]
    }
   ],
   "source": [
    "det_A = np.linalg.det(A)\n",
    "print(\"Determinante de A:\", det_A)\n"
   ]
  },
  {
   "cell_type": "markdown",
   "id": "1ff61375-241c-401f-beb1-8edcdacc808c",
   "metadata": {},
   "source": [
    "## 5️⃣ Autovalores e autovetores"
   ]
  },
  {
   "cell_type": "code",
   "execution_count": 6,
   "id": "56c1b9e8-9960-429d-83ce-2425a0b70e97",
   "metadata": {},
   "outputs": [
    {
     "name": "stdout",
     "output_type": "stream",
     "text": [
      "Autovalores: [-0.37228132  5.37228132]\n",
      "Autovetores:\n",
      " [[-0.82456484 -0.41597356]\n",
      " [ 0.56576746 -0.90937671]]\n"
     ]
    }
   ],
   "source": [
    "eigvals, eigvecs = np.linalg.eig(A)\n",
    "print(\"Autovalores:\", eigvals)\n",
    "print(\"Autovetores:\\n\", eigvecs)\n"
   ]
  },
  {
   "cell_type": "markdown",
   "id": "d1471aa1-66d5-4b66-9a34-03626d55a819",
   "metadata": {},
   "source": [
    "## 6️⃣ Resolvendo sistemas lineares\n",
    "\n",
    "Exemplo:  \n",
    "Resolver o sistema   \n",
    "2x + y = 5  \n",
    "x - y = 1"
   ]
  },
  {
   "cell_type": "code",
   "execution_count": 13,
   "id": "f291abad-5924-49e6-8b9d-ab92235beb9b",
   "metadata": {},
   "outputs": [
    {
     "name": "stdout",
     "output_type": "stream",
     "text": [
      "Solução do sistema: [2. 1.]\n"
     ]
    }
   ],
   "source": [
    "\n",
    "\n",
    "# Coeficientes do sistema\n",
    "coef = np.array([[2, 1], [1, -1]])\n",
    "const = np.array([5, 1])\n",
    "\n",
    "# Solução do sistema\n",
    "solucao = np.linalg.solve(coef, const)\n",
    "print(\"Solução do sistema:\", solucao)\n",
    "\n"
   ]
  },
  {
   "cell_type": "code",
   "execution_count": null,
   "id": "ed58f4ec-8019-47ec-82cd-db880b6f3b4e",
   "metadata": {},
   "outputs": [],
   "source": []
  }
 ],
 "metadata": {
  "kernelspec": {
   "display_name": "Python [conda env:base] *",
   "language": "python",
   "name": "conda-base-py"
  },
  "language_info": {
   "codemirror_mode": {
    "name": "ipython",
    "version": 3
   },
   "file_extension": ".py",
   "mimetype": "text/x-python",
   "name": "python",
   "nbconvert_exporter": "python",
   "pygments_lexer": "ipython3",
   "version": "3.12.7"
  }
 },
 "nbformat": 4,
 "nbformat_minor": 5
}
