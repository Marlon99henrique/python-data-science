{
 "cells": [
  {
   "cell_type": "markdown",
   "id": "43662c8c-1258-469b-84f0-1cb4e9aebcaf",
   "metadata": {},
   "source": [
    "# 🧩 Funções e Módulos em Python\n",
    "\n",
    "> Neste notebook, apresento exemplos que demonstram:\n",
    "\n",
    "- Criação e uso de funções com retorno de valores\n",
    "- Uso de **argumentos** e **valores padrão**\n",
    "- Importação e utilização de **módulos nativos** (`math`, `random`, `datetime`)  \n",
    "- Criação e importação de **módulos personalizados**\n"
   ]
  },
  {
   "cell_type": "markdown",
   "id": "2dc47130-ab20-4083-afae-6f28af98b301",
   "metadata": {},
   "source": [
    "---\n",
    "## 🔧 Criando uma Função\n",
    "\n",
    "Funções permitem **reaproveitar código** e organizar a lógica do programa em blocos reutilizáveis.\n",
    "\n",
    "### Exemplo:\n",
    "\n"
   ]
  },
  {
   "cell_type": "code",
   "execution_count": 2,
   "id": "4ce8509b-b260-4900-a0be-e2178e149a49",
   "metadata": {},
   "outputs": [
    {
     "name": "stdout",
     "output_type": "stream",
     "text": [
      "Hello, world!\n"
     ]
    }
   ],
   "source": [
    "def saudacao():                     # Define a função chamada 'saudacao'\n",
    "    print(\"Hello, world!\")           # Corpo da função: exibe uma saudação\n",
    "\n",
    "# Chamando a função\n",
    "saudacao()                          # Executa a função e exibe \"Olá, Marlon!\""
   ]
  },
  {
   "cell_type": "markdown",
   "id": "08f7797b-38bf-4957-a188-09ee4fd9d035",
   "metadata": {},
   "source": [
    "---\n",
    "## 📥 Funções com Parâmetros\n",
    "\n",
    "Funções podem receber **entradas** chamadas parâmetros, permitindo reutilizar o mesmo código com diferentes valores.\n",
    "\n",
    "### Exemplo:\n",
    "\n"
   ]
  },
  {
   "cell_type": "code",
   "execution_count": 3,
   "id": "5ab2e936-2346-4581-a61f-122c9f328e8f",
   "metadata": {},
   "outputs": [
    {
     "name": "stdout",
     "output_type": "stream",
     "text": [
      "Olá, Bruna!\n",
      "Olá, Marlon!\n"
     ]
    }
   ],
   "source": [
    "def saudacao_personalizada(nome):           # Define a função com o parâmetro 'nome'\n",
    "    print(f\"Olá, {nome}!\")                  # Usa o parâmetro para exibir a saudação\n",
    "\n",
    "# Chamando a função com diferentes argumentos\n",
    "saudacao_personalizada(\"Bruna\")             # Exibe \"Olá, Bruna!\"\n",
    "saudacao_personalizada(\"Marlon\")            # Exibe \"Olá, Marlon!\""
   ]
  },
  {
   "cell_type": "markdown",
   "id": "4719b875-a700-4035-bff9-1510325d8c59",
   "metadata": {},
   "source": [
    "---\n",
    "## 🔁 Funções com Retorno\n",
    "\n",
    "Funções podem **retornar valores** usando a palavra-chave `return`, permitindo armazenar ou reutilizar o resultado em outras partes do código.\n",
    "\n",
    "### Exemplo:\n",
    "\n"
   ]
  },
  {
   "cell_type": "code",
   "execution_count": 4,
   "id": "2794b2c5-6430-4763-a0ca-a642fbd7a011",
   "metadata": {},
   "outputs": [
    {
     "name": "stdout",
     "output_type": "stream",
     "text": [
      "Resultado: 8\n"
     ]
    }
   ],
   "source": [
    "def soma(a, b):                 # Define a função com parâmetros 'a' e 'b'\n",
    "    return a + b                # Retorna a soma dos dois valores\n",
    "\n",
    "# Chamando a função e armazenando o resultado\n",
    "resultado = soma(3, 5)          # resultado recebe 8\n",
    "print(\"Resultado:\", resultado)   # Exibe \"Resultado: 8\""
   ]
  },
  {
   "cell_type": "markdown",
   "id": "2df7b351-caed-4894-b723-05835219ba77",
   "metadata": {},
   "source": [
    "---\n",
    "## ⚙️ Parâmetros Padrão\n",
    "\n",
    "Funções podem ter **valores padrão** para parâmetros. Se nenhum valor for fornecido, o padrão será usado.\n",
    "\n",
    "### Exemplo:\n"
   ]
  },
  {
   "cell_type": "code",
   "execution_count": 5,
   "id": "b7fd5d58-67bb-490a-83af-639cfb9652e0",
   "metadata": {},
   "outputs": [
    {
     "name": "stdout",
     "output_type": "stream",
     "text": [
      "Bem-vindo, Visitante!\n",
      "Bem-vindo, Marlon!\n"
     ]
    }
   ],
   "source": [
    "def apresentar(nome=\"Visitante\"):        # 'nome' tem valor padrão \"Visitante\"\n",
    "    print(f\"Bem-vindo, {nome}!\")        # Exibe a saudação personalizada\n",
    "\n",
    "# Chamando a função sem argumento (usa o valor padrão)\n",
    "apresentar()                             # Saída: Bem-vindo, Visitante!\n",
    "\n",
    "# Chamando a função com argumento\n",
    "apresentar(\"Marlon\")                     # Saída: Bem-vindo, Marlon!\n"
   ]
  },
  {
   "cell_type": "markdown",
   "id": "77d10f8e-fc2e-4c8d-aa6a-ee47a0bffe1b",
   "metadata": {},
   "source": [
    "---\n",
    "## 📦 Módulos em Python\n",
    "\n",
    "Módulos são arquivos `.py` que contêm funções, classes e variáveis que podem ser reutilizadas em diferentes partes de um programa ou em projetos distintos. Eles ajudam a organizar o código, evitar repetição e facilitar a manutenção.\n",
    "\n",
    "Existem dois tipos principais de módulos:  \n",
    "- Módulos internos (built-in): já vêm com o Python, como `random`, `math`, `datetime`, etc. \n",
    "- Módulos personalizados: criados por você ou por terceiros, podendo ser importados em qualquer script.\n",
    "\n",
    "### 🎲 Módulo `random`\n",
    "\n",
    "O módulo `random` permite gerar números aleatórios e realizar escolhas aleatórias em sequências.\n",
    "\n",
    "#### Exemplo:\n",
    "\n"
   ]
  },
  {
   "cell_type": "code",
   "execution_count": 8,
   "id": "776d509a-a3b0-4921-a0c6-b5624b6eeac5",
   "metadata": {},
   "outputs": [
    {
     "name": "stdout",
     "output_type": "stream",
     "text": [
      "4.0\n",
      "3.141592653589793\n"
     ]
    }
   ],
   "source": [
    "import math                        # Importa o módulo math\n",
    "\n",
    "print(math.sqrt(16))                # Calcula a raiz quadrada de 16\n",
    "print(math.pi)                      # Exibe o valor de π\n"
   ]
  },
  {
   "cell_type": "markdown",
   "id": "8cd6a7b5-75a6-4a8f-a815-ccea350c386d",
   "metadata": {},
   "source": [
    "### 📐 Módulo `math`\n",
    "\n",
    "O módulo `math` fornece funções matemáticas avançadas e constantes úteis em Python.\n",
    "\n",
    "#### Exemplo:\n"
   ]
  },
  {
   "cell_type": "code",
   "execution_count": 9,
   "id": "11a8b458-3882-4e81-981c-f99d531b0df1",
   "metadata": {},
   "outputs": [
    {
     "name": "stdout",
     "output_type": "stream",
     "text": [
      "4.0\n",
      "3.141592653589793\n"
     ]
    }
   ],
   "source": [
    "import math                        # Importa o módulo math\n",
    "\n",
    "print(math.sqrt(16))                # Calcula a raiz quadrada de 16\n",
    "print(math.pi)                      # Exibe o valor de π\n"
   ]
  },
  {
   "cell_type": "markdown",
   "id": "ac100276-cd75-403b-bc27-ab8e16f57c89",
   "metadata": {},
   "source": [
    "### 📅 Módulo `datetime`\n",
    "\n",
    "O módulo `datetime` permite trabalhar com datas e horários em Python.\n",
    "\n",
    "#### Exemplo:\n"
   ]
  },
  {
   "cell_type": "code",
   "execution_count": 10,
   "id": "c152da71-207f-4bda-8266-37cad72fb2ac",
   "metadata": {},
   "outputs": [
    {
     "name": "stdout",
     "output_type": "stream",
     "text": [
      "Data atual: 2025-08-17\n",
      "Horário atual: 23:51:22\n"
     ]
    }
   ],
   "source": [
    "import datetime\n",
    "\n",
    "hoje = datetime.date.today()                      # Obtém a data atual\n",
    "print(\"Data atual:\", hoje)\n",
    "\n",
    "agora = datetime.datetime.now()                   # Obtém data e hora atuais\n",
    "print(\"Horário atual:\", agora.strftime(\"%H:%M:%S\"))  # Formata a hora como HH:MM:SS"
   ]
  },
  {
   "cell_type": "markdown",
   "id": "3ac61050-28af-4124-945a-da1ef6005d98",
   "metadata": {},
   "source": [
    "### 📦 Criando seu próprio módulo\n",
    "\n",
    "Em Python, **módulos** são arquivos `.py` que podem conter funções, classes e variáveis. Criar seus próprios módulos permite **organizar e reutilizar código** em diferentes projetos sem precisar reescrever funções repetidamente.\n",
    "\n",
    "#### Exemplo:\n",
    "\n",
    "**Arquivo `utilidades.py`:**\n",
    "\n"
   ]
  },
  {
   "cell_type": "code",
   "execution_count": 22,
   "id": "ddff1745-9c08-4214-a433-55f9fa277f8c",
   "metadata": {},
   "outputs": [],
   "source": [
    "def saudacao(nome):\n",
    "    return f\"Olá, {nome}!\"        # Retorna uma saudação personalizada\n",
    "\n",
    "def quadrado(x):\n",
    "    return x ** 2                 # Retorna o quadrado de um número"
   ]
  },
  {
   "cell_type": "markdown",
   "id": "ef189038-208f-4fab-9c52-6fa97eb521af",
   "metadata": {},
   "source": [
    "**Em outro arquivo:**"
   ]
  },
  {
   "cell_type": "code",
   "execution_count": 23,
   "id": "f3cda0ee-5b2b-4de3-8a6f-f80aae467071",
   "metadata": {},
   "outputs": [
    {
     "name": "stdout",
     "output_type": "stream",
     "text": [
      "Olá, Marlon!\n",
      "25\n"
     ]
    }
   ],
   "source": [
    "import utilidades                 # Importa o módulo criado\n",
    "\n",
    "print(utilidades.saudacao(\"Marlon\"))  # Chama a função saudacao do módulo\n",
    "print(utilidades.quadrado(5))         # Chama a função quadrado do módulo\n"
   ]
  },
  {
   "cell_type": "markdown",
   "id": "32fc7dfc-50c9-4041-915b-13b19faff515",
   "metadata": {},
   "source": [
    "#### ✅ Explicação\n",
    "\n",
    "- `utilidades.py` é o **módulo personalizado**, contendo funções que podem ser reutilizadas.  \n",
    "- `import utilidades` permite acessar todas as funções do módulo em outro arquivo.  \n",
    "- Com isso, você mantém seu código **mais organizado** e **modular**, facilitando manutenção e expansão do projeto.\n"
   ]
  },
  {
   "cell_type": "markdown",
   "id": "c0e71da9-1a85-40d7-847d-21f2d07e5251",
   "metadata": {},
   "source": [
    "---\n",
    "\n",
    "## 🏁 Conclusão\n",
    "\n",
    "O uso de **funções e módulos em Python** é fundamental para escrever código limpo, reutilizável e organizado.  \n",
    "\n",
    "- `def` permite encapsular lógica em blocos reutilizáveis, facilitando a manutenção e clareza do código.  \n",
    "- Parâmetros e argumentos tornam as funções flexíveis e adaptáveis a diferentes situações.  \n",
    "- O `return` define o resultado da função, permitindo que ela interaja com outras partes do programa.  \n",
    "- Módulos ajudam a dividir o projeto em partes menores e mais gerenciáveis, promovendo reutilização e separação de responsabilidades.  \n",
    "- O `import` possibilita trazer funcionalidades externas, ampliando o poder da linguagem com bibliotecas nativas ou personalizadas.\n"
   ]
  }
 ],
 "metadata": {
  "kernelspec": {
   "display_name": "Python [conda env:base] *",
   "language": "python",
   "name": "conda-base-py"
  },
  "language_info": {
   "codemirror_mode": {
    "name": "ipython",
    "version": 3
   },
   "file_extension": ".py",
   "mimetype": "text/x-python",
   "name": "python",
   "nbconvert_exporter": "python",
   "pygments_lexer": "ipython3",
   "version": "3.12.7"
  }
 },
 "nbformat": 4,
 "nbformat_minor": 5
}
