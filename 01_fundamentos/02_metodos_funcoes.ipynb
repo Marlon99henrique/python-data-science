{
 "cells": [
  {
   "cell_type": "markdown",
   "id": "f1a4d4b2-d0bb-4782-83b8-530c841c623c",
   "metadata": {},
   "source": [
    "# 📌 Funções e Métodos em Python para Ciência de Dados\n",
    "\n",
    "  \n",
    "Neste notebook, exploramos funções, métodos e técnicas de manipulação de dados em Python, com foco em aplicações práticas para Ciência de Dados.  \n",
    "O conteúdo é aplicável para análise exploratória, limpeza de dados e preparação de datasets para modelagem.\n",
    "\n",
    "**Objetivos:**\n",
    "1. Criar funções reutilizáveis para análise de dados\n",
    "2. Aplicar métodos nativos de Python para limpeza e transformação de dados\n",
    "3. Usar funções `lambda` em Pandas para manipulação de colunas\n",
    "4. Demonstrar boas práticas em Python voltadas para Data Science"
   ]
  },
  {
   "cell_type": "markdown",
   "id": "fb06c513-4bd9-44f4-82bf-955df4005288",
   "metadata": {},
   "source": [
    "## 1. Funções \n",
    "Exemplo: função para análise de métricas de vendas"
   ]
  },
  {
   "cell_type": "code",
   "execution_count": 5,
   "id": "92e99b06-a8ea-4061-b0df-7c5651131bb3",
   "metadata": {},
   "outputs": [
    {
     "data": {
      "text/plain": [
       "{'total': 730, 'media': 182.5, 'max': 300, 'min': 80}"
      ]
     },
     "execution_count": 5,
     "metadata": {},
     "output_type": "execute_result"
    }
   ],
   "source": [
    "\n",
    "def calcular_estatisticas(vendas):\n",
    "    \"\"\"\n",
    "    Calcula métricas básicas de vendas\n",
    "    \n",
    "    Args:\n",
    "        vendas (list): Lista de valores de venda\n",
    "        \n",
    "    Returns:\n",
    "        dict: Dicionário com métricas\n",
    "    \"\"\"\n",
    "    return {\n",
    "        \"total\": sum(vendas),\n",
    "        \"media\": sum(vendas)/len(vendas),\n",
    "        \"max\": max(vendas),\n",
    "        \"min\": min(vendas)\n",
    "    }\n",
    "\n",
    "# Testando\n",
    "vendas_diarias = [150, 200, 80, 300]\n",
    "calcular_estatisticas(vendas_diarias)"
   ]
  },
  {
   "cell_type": "markdown",
   "id": "fe149e7d-4a36-410c-96c5-0e487bb4f3d5",
   "metadata": {},
   "source": [
    "## 2. Métodos em Python  \n",
    "Exemplo de métodos úteis para Ciência de Dados:  \n",
    "### Métodos de String"
   ]
  },
  {
   "cell_type": "code",
   "execution_count": 9,
   "id": "68c57c87-f0d7-4113-b7c1-4b4d4df6f4d5",
   "metadata": {},
   "outputs": [
    {
     "name": "stdout",
     "output_type": "stream",
     "text": [
      "Python Data Science\n",
      "  python data science  \n",
      "  R Data Science  \n",
      "['Python', 'Data', 'Science']\n"
     ]
    }
   ],
   "source": [
    "texto = \"  Python Data Science  \"\n",
    "print(texto.strip())       # Remove espaços\n",
    "print(texto.lower())       # Converte para minúsculas\n",
    "print(texto.replace(\"Python\", \"R\"))  # Substitui palavras\n",
    "print(texto.split())       # Divide em lista de palavras\n"
   ]
  },
  {
   "cell_type": "markdown",
   "id": "a239f8ec-e1d0-41de-a639-ae74a9b4822c",
   "metadata": {},
   "source": [
    "### Métodos de Lista"
   ]
  },
  {
   "cell_type": "code",
   "execution_count": 10,
   "id": "348d18c4-88a0-4f85-83a1-c351488e4f73",
   "metadata": {},
   "outputs": [
    {
     "data": {
      "text/plain": [
       "[5, 8, 10]"
      ]
     },
     "execution_count": 10,
     "metadata": {},
     "output_type": "execute_result"
    }
   ],
   "source": [
    "valores = [10, 5, 8]\n",
    "valores.append(12)     # Adiciona elemento\n",
    "valores.sort()         # Ordena a lista\n",
    "valores.pop()          # Remove último elemento\n",
    "valores\n"
   ]
  },
  {
   "cell_type": "markdown",
   "id": "d907dcaf-0637-425b-bb04-f01f46e76708",
   "metadata": {},
   "source": [
    "### Métodos de Dicionário"
   ]
  },
  {
   "cell_type": "code",
   "execution_count": 11,
   "id": "419eb5f1-cfde-4b55-a030-a284f3e5fd4d",
   "metadata": {},
   "outputs": [
    {
     "name": "stdout",
     "output_type": "stream",
     "text": [
      "dict_keys(['produto', 'preco'])\n",
      "dict_values(['Mouse', 89.9])\n",
      "dict_items([('produto', 'Mouse'), ('preco', 89.9)])\n",
      "89.9\n"
     ]
    }
   ],
   "source": [
    "dados = {\"produto\": \"Mouse\", \"preco\": 89.90}\n",
    "print(dados.keys())     # Chaves\n",
    "print(dados.values())   # Valores\n",
    "print(dados.items())    # Tuplas de chave-valor\n",
    "print(dados.get(\"preco\"))  # Acessa valor de uma chave\n"
   ]
  },
  {
   "cell_type": "markdown",
   "id": "fcb153bf-9274-40a0-92e4-a44d1f8c9406",
   "metadata": {},
   "source": [
    "## 3. Métodos para Limpeza de Dados  \n",
    "#### Exemplo de limpeza e conversão de valores financeiros:"
   ]
  },
  {
   "cell_type": "code",
   "execution_count": 12,
   "id": "0b53fbd2-2f2a-4ec4-b1da-8f137c76ee7f",
   "metadata": {},
   "outputs": [
    {
     "data": {
      "text/plain": [
       "1234.56"
      ]
     },
     "execution_count": 12,
     "metadata": {},
     "output_type": "execute_result"
    }
   ],
   "source": [
    "texto_bruto = \"  RELATÓRIO: Vendas R$ 1.234,56  \"\n",
    "\n",
    "valor_limpo = (\n",
    "    texto_bruto\n",
    "    .strip()               # Remove espaços\n",
    "    .split(\"R$\")[-1]       # Pega texto após \"R$\"\n",
    "    .strip()\n",
    "    .replace(\".\", \"\")      # Remove pontos\n",
    "    .replace(\",\", \".\")     # Substitui vírgula\n",
    ")\n",
    "\n",
    "valor_numerico = float(valor_limpo)\n",
    "valor_numerico\n"
   ]
  },
  {
   "cell_type": "markdown",
   "id": "16c8a0bc-8267-4bd1-afac-7c0461a6c669",
   "metadata": {},
   "source": [
    "##### Saída esperada:\n",
    "1234.56"
   ]
  },
  {
   "cell_type": "markdown",
   "id": "5a98b1fb-96bc-440d-82e4-88c9478ecd92",
   "metadata": {},
   "source": [
    "## 4. Funções Lambda em Python Puro  \n",
    " Exemplos de uso de lambda sem bibliotecas externas:  \n",
    "#### Lambda em Lista"
   ]
  },
  {
   "cell_type": "code",
   "execution_count": 13,
   "id": "5299f3cc-0160-4379-aecd-ea914555642b",
   "metadata": {},
   "outputs": [
    {
     "data": {
      "text/plain": [
       "[4675.99, 98.89000000000001, 219.89000000000001, 879.8900000000001]"
      ]
     },
     "execution_count": 13,
     "metadata": {},
     "output_type": "execute_result"
    }
   ],
   "source": [
    "# Lista de preços\n",
    "precos = [4250.90, 89.90, 199.90, 799.90]\n",
    "\n",
    "# Adicionar frete de 10%\n",
    "precos_com_frete = list(map(lambda x: x*1.10, precos))\n",
    "precos_com_frete\n"
   ]
  },
  {
   "cell_type": "markdown",
   "id": "935595b3-5f30-419d-b627-0cd1f707dd14",
   "metadata": {},
   "source": [
    "#### Lambda com Condicional"
   ]
  },
  {
   "cell_type": "code",
   "execution_count": 14,
   "id": "f9a12a01-8af2-4a73-99b1-d7d6dc542b1d",
   "metadata": {},
   "outputs": [
    {
     "data": {
      "text/plain": [
       "[4208.391, 98.89000000000001, 197.901, 791.9010000000001]"
      ]
     },
     "execution_count": 14,
     "metadata": {},
     "output_type": "execute_result"
    }
   ],
   "source": [
    "# Aplicar desconto se preço > 100\n",
    "precos_com_desconto = list(map(lambda x: x*0.9 if x>100 else x, precos_com_frete))\n",
    "precos_com_desconto\n"
   ]
  },
  {
   "cell_type": "markdown",
   "id": "b4dad2fa-200f-40e8-af12-c6356f804219",
   "metadata": {},
   "source": [
    "#### Lambda com Dicionários"
   ]
  },
  {
   "cell_type": "code",
   "execution_count": 15,
   "id": "3984baf6-7e8c-4641-bc4e-327d6165577f",
   "metadata": {},
   "outputs": [
    {
     "data": {
      "text/plain": [
       "[{'nome': 'Notebook', 'preco': 4250.9, 'preco_final': 4300.9},\n",
       " {'nome': 'Mouse', 'preco': 89.9, 'preco_final': 139.9},\n",
       " {'nome': 'Teclado', 'preco': 199.9, 'preco_final': 249.9}]"
      ]
     },
     "execution_count": 15,
     "metadata": {},
     "output_type": "execute_result"
    }
   ],
   "source": [
    "produtos = [\n",
    "    {\"nome\": \"Notebook\", \"preco\": 4250.90},\n",
    "    {\"nome\": \"Mouse\", \"preco\": 89.90},\n",
    "    {\"nome\": \"Teclado\", \"preco\": 199.90},\n",
    "]\n",
    "\n",
    "# Atualizar preços aplicando frete\n",
    "produtos_atualizados = list(map(lambda p: {**p, \"preco_final\": p[\"preco\"] + 50}, produtos))\n",
    "produtos_atualizados\n"
   ]
  },
  {
   "cell_type": "code",
   "execution_count": null,
   "id": "d02f76ac-cee4-44f7-8202-9b5d084667b5",
   "metadata": {},
   "outputs": [],
   "source": []
  }
 ],
 "metadata": {
  "kernelspec": {
   "display_name": "Python [conda env:base] *",
   "language": "python",
   "name": "conda-base-py"
  },
  "language_info": {
   "codemirror_mode": {
    "name": "ipython",
    "version": 3
   },
   "file_extension": ".py",
   "mimetype": "text/x-python",
   "name": "python",
   "nbconvert_exporter": "python",
   "pygments_lexer": "ipython3",
   "version": "3.12.7"
  }
 },
 "nbformat": 4,
 "nbformat_minor": 5
}
