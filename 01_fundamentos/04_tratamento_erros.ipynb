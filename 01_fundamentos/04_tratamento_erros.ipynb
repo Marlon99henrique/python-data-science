{
 "cells": [
  {
   "cell_type": "markdown",
   "id": "611e4d43-4f57-497e-86b2-3bb418bee12f",
   "metadata": {},
   "source": [
    "# ⚠️ Tratamento de Erros em Python\n",
    "> Neste notebook apresento exemplos em:\n",
    "\n",
    "- Prever e capturar exceções usando `try` e `except`\n",
    "- Lançar erros personalizados com `raise`\n",
    "- Validar condições com `assert` para maior segurança do código\n",
    "- Garantir execução controlada usando `else` e `finally`\n",
    "\n",
    "\n",
    "---\n",
    "\n",
    "### 🧨 Tipos comuns de erros\n",
    "\n",
    "- `SyntaxError` → Erro de sintaxe\n",
    "- `NameError` → Variável não definida\n",
    "- `TypeError` → Tipo de dado incompatível\n",
    "- `ValueError` → Valor inválido para uma operação\n",
    "- `ZeroDivisionError` → Divisão por zero\n",
    "- `FileNotFoundError` → Arquivo não encontrado\n",
    "\n",
    "---\n",
    "\n",
    "## 🛡️ Tratamento de Erros com `try` e `except`\n",
    "\n",
    "O bloco `try` permite **tentar executar um código que pode gerar erros**, enquanto `except` captura e trata essas **exceções** de forma controlada, evitando que o programa seja interrompido inesperadamente. Isso garante maior **robustez e segurança** na execução do código.\n",
    "\n",
    "\n",
    "### Exemplo:\n",
    "\n"
   ]
  },
  {
   "cell_type": "code",
   "execution_count": 11,
   "id": "558d26b7-9daa-402f-b4d7-8d6e8c61d43b",
   "metadata": {},
   "outputs": [
    {
     "name": "stdin",
     "output_type": "stream",
     "text": [
      "Digite um número para dividir o 10 2\n"
     ]
    },
    {
     "name": "stdout",
     "output_type": "stream",
     "text": [
      "O número 10 dividido por 2 é 5.0\n"
     ]
    }
   ],
   "source": [
    "try:\n",
    "    numero = int(input(\"Digite um número para dividir o 10\"))  # Tenta converter a entrada em inteiro\n",
    "    resultado = 10 / numero                                    # Pode gerar ZeroDivisionError\n",
    "    print(f'O número 10 dividido por {numero} é {resultado}')    # Exibe o resultado se não houver erro\n",
    "except ValueError:                                             # Captura erro de conversão\n",
    "    print(\"Você precisa digitar um número válido.\")\n",
    "except ZeroDivisionError:                                      # Captura divisão por zero\n",
    "    print(\"Não é possível dividir por zero.\")"
   ]
  },
  {
   "cell_type": "markdown",
   "id": "b5f63905-349c-48cb-a359-14b04c3b0e8b",
   "metadata": {},
   "source": [
    "---\n",
    "## 🔁 Usando `else` e `finally`\n",
    "\n",
    "No tratamento de erros em Python:\n",
    "\n",
    "- O bloco `else` é executado **apenas se nenhum erro ocorrer** no bloco `try`.  \n",
    "- O bloco `finally` é executado **sempre**, independentemente de ter ocorrido um erro ou não, sendo útil para liberar recursos ou finalizar operações.\n",
    "\n",
    "Isso permite organizar o fluxo do código de forma clara e segura.\n"
   ]
  },
  {
   "cell_type": "code",
   "execution_count": 13,
   "id": "da1587bd-db27-453d-ba5c-de948940a03e",
   "metadata": {},
   "outputs": [
    {
     "name": "stdout",
     "output_type": "stream",
     "text": [
      "Tentando realizar uma operação...\n"
     ]
    },
    {
     "name": "stdin",
     "output_type": "stream",
     "text": [
      "Digite um número:  7\n"
     ]
    },
    {
     "name": "stdout",
     "output_type": "stream",
     "text": [
      "Operação realizada com sucesso! 10 dividido por 7 = 1.4285714285714286\n",
      "Encerrando operação.\n"
     ]
    }
   ],
   "source": [
    "try:\n",
    "    print(\"Tentando realizar uma operação...\")\n",
    "    numero = int(input(\"Digite um número: \"))      # Pode gerar ValueError\n",
    "    resultado = 10 / numero                         # Pode gerar ZeroDivisionError\n",
    "except ValueError:                                  # Captura erro de conversão\n",
    "    print(\"Você precisa digitar um número válido.\")\n",
    "except ZeroDivisionError:                           # Captura divisão por zero\n",
    "    print(\"Não é possível dividir por zero.\")\n",
    "else:                                               # Executa se não houver exceção\n",
    "    print(f\"Operação realizada com sucesso! 10 dividido por {numero} = {resultado}\")\n",
    "finally:                                            # Sempre executa, independentemente de erro\n",
    "    print(\"Encerrando operação.\")\n"
   ]
  },
  {
   "cell_type": "markdown",
   "id": "7b998f97-55f9-486e-9d54-86ae491497ff",
   "metadata": {},
   "source": [
    "---\n",
    "## 🚨 Lançando erros com `raise`\n",
    "\n",
    "É possível **forçar a ocorrência de uma exceção** usando a palavra-chave `raise`, útil para validar condições no seu código.\n",
    "\n",
    "### Exemplo:\n",
    "\n"
   ]
  },
  {
   "cell_type": "code",
   "execution_count": 14,
   "id": "153b9a4d-bd2b-41e4-9ccc-96ecc8d3449e",
   "metadata": {},
   "outputs": [
    {
     "name": "stdout",
     "output_type": "stream",
     "text": [
      "5.0\n"
     ]
    },
    {
     "ename": "ValueError",
     "evalue": "O denominador não pode ser zero.",
     "output_type": "error",
     "traceback": [
      "\u001b[1;31m---------------------------------------------------------------------------\u001b[0m",
      "\u001b[1;31mValueError\u001b[0m                                Traceback (most recent call last)",
      "Cell \u001b[1;32mIn[14], line 7\u001b[0m\n\u001b[0;32m      4\u001b[0m     \u001b[38;5;28;01mreturn\u001b[39;00m a \u001b[38;5;241m/\u001b[39m b\n\u001b[0;32m      6\u001b[0m \u001b[38;5;28mprint\u001b[39m(dividir(\u001b[38;5;241m10\u001b[39m, \u001b[38;5;241m2\u001b[39m))   \u001b[38;5;66;03m# Retorna 5.0\u001b[39;00m\n\u001b[1;32m----> 7\u001b[0m \u001b[38;5;28mprint\u001b[39m(dividir(\u001b[38;5;241m10\u001b[39m, \u001b[38;5;241m0\u001b[39m))\n",
      "Cell \u001b[1;32mIn[14], line 3\u001b[0m, in \u001b[0;36mdividir\u001b[1;34m(a, b)\u001b[0m\n\u001b[0;32m      1\u001b[0m \u001b[38;5;28;01mdef\u001b[39;00m \u001b[38;5;21mdividir\u001b[39m(a, b):\n\u001b[0;32m      2\u001b[0m     \u001b[38;5;28;01mif\u001b[39;00m b \u001b[38;5;241m==\u001b[39m \u001b[38;5;241m0\u001b[39m:                          \u001b[38;5;66;03m# Verifica se o denominador é zero\u001b[39;00m\n\u001b[1;32m----> 3\u001b[0m         \u001b[38;5;28;01mraise\u001b[39;00m \u001b[38;5;167;01mValueError\u001b[39;00m(\u001b[38;5;124m\"\u001b[39m\u001b[38;5;124mO denominador não pode ser zero.\u001b[39m\u001b[38;5;124m\"\u001b[39m)  \u001b[38;5;66;03m# Lança um erro\u001b[39;00m\n\u001b[0;32m      4\u001b[0m     \u001b[38;5;28;01mreturn\u001b[39;00m a \u001b[38;5;241m/\u001b[39m b\n",
      "\u001b[1;31mValueError\u001b[0m: O denominador não pode ser zero."
     ]
    }
   ],
   "source": [
    "def dividir(a, b):\n",
    "    if b == 0:                          # Verifica se o denominador é zero\n",
    "        raise ValueError(\"O denominador não pode ser zero.\")  # Lança um erro\n",
    "    return a / b\n",
    "\n",
    "print(dividir(10, 2))   # Retorna 5.0\n",
    "print(dividir(10, 0))   # Vai gerar ValueError"
   ]
  },
  {
   "cell_type": "markdown",
   "id": "15e395a9-5c26-4631-8146-d8a5c7764bb6",
   "metadata": {},
   "source": [
    "---\n",
    "## ✅ Usando `assert` para validar condições\n",
    "\n",
    "O `assert` permite **verificar condições no código** e lançar uma exceção caso a condição seja falsa, ajudando na depuração e validação de dados.\n",
    "\n",
    "### Exemplo:\n",
    "\n"
   ]
  },
  {
   "cell_type": "code",
   "execution_count": 15,
   "id": "d4edc8c6-47f5-4339-9322-2cdbb59f3b56",
   "metadata": {},
   "outputs": [
    {
     "name": "stdout",
     "output_type": "stream",
     "text": [
      "Acesso permitido.\n"
     ]
    }
   ],
   "source": [
    "idade = 20\n",
    "assert idade >= 18, \"A idade deve ser maior ou igual a 18\"  # Valida a condição\n",
    "print(\"Acesso permitido.\")  # Executa se a condição for verdadeira"
   ]
  },
  {
   "cell_type": "markdown",
   "id": "a1bffeae-cb00-4341-9cde-08343bc0a708",
   "metadata": {},
   "source": [
    "---\n",
    "## 🏁 Conclusão\n",
    "\n",
    "O **tratamento de erros em Python** é essencial para tornar seus programas mais robustos e confiáveis.  \n",
    "\n",
    "- `try` e `except` permitem capturar exceções e evitar que o programa quebre.  \n",
    "- `else` e `finally` ajudam a organizar ações que dependem do sucesso ou que devem sempre ser executadas.  \n",
    "- `raise` possibilita lançar erros personalizados quando condições específicas não são atendidas.  \n",
    "- `assert` auxilia na validação de condições durante o desenvolvimento, facilitando a depuração.  \n",
    "\n"
   ]
  }
 ],
 "metadata": {
  "kernelspec": {
   "display_name": "Python [conda env:base] *",
   "language": "python",
   "name": "conda-base-py"
  },
  "language_info": {
   "codemirror_mode": {
    "name": "ipython",
    "version": 3
   },
   "file_extension": ".py",
   "mimetype": "text/x-python",
   "name": "python",
   "nbconvert_exporter": "python",
   "pygments_lexer": "ipython3",
   "version": "3.12.7"
  }
 },
 "nbformat": 4,
 "nbformat_minor": 5
}
