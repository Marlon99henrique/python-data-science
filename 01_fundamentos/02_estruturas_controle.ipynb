{
 "cells": [
  {
   "cell_type": "markdown",
   "id": "e79bcb1b-5abb-49a3-9d0e-ce36b993f5e7",
   "metadata": {},
   "source": [
    "# 🔁 Estruturas de Controle em Python\n",
    "> Controle o fluxo do seu programa com decisões e repetições.\n",
    "\n",
    "As estruturas de controle permitem que o código tome decisões e execute ações repetidas. Neste notebook, vamos explorar:\n",
    "\n",
    "- Condicionais: `if`, `elif`, `else`\n",
    "- Laços de repetição: `for`, `while`\n",
    "- Comandos de fluxo: `break`, `continue`, `pass`\n"
   ]
  },
  {
   "cell_type": "markdown",
   "id": "c40c73dc-f038-450d-bb9d-1dc6066ce4f0",
   "metadata": {},
   "source": [
    "## ✅ Condicional `if`\n",
    "\n",
    "A estrutura condicional `if` permite executar blocos de código apenas quando uma condição é verdadeira.\n",
    "\n",
    "### Exemplo:\n",
    "\n",
    "\n"
   ]
  },
  {
   "cell_type": "code",
   "execution_count": 1,
   "id": "d9d34154-417d-4824-8d42-5384f84d607c",
   "metadata": {},
   "outputs": [
    {
     "name": "stdout",
     "output_type": "stream",
     "text": [
      "Você é maior de idade\n"
     ]
    }
   ],
   "source": [
    "idade = 18\n",
    "\n",
    "if idade >= 18:                     # Verifica se a idade é maior ou igual a 18\n",
    "    print(\"Você é maior de idade\")  # Executa se a condição for verdadeira\n",
    "else:                               # Caso a condição seja falsa\n",
    "    print(\"Você é menor de idade\")  # Executa este bloco\n"
   ]
  },
  {
   "cell_type": "markdown",
   "id": "e8dc76d1-c056-4321-8872-4aa424599450",
   "metadata": {},
   "source": [
    "## 🔄 Condicional `if`, `elif` e `else`\n",
    "\n",
    "As estruturas condicionais `if`, `elif` e `else` permitem executar blocos de código diferentes dependendo das condições.\n",
    "\n",
    "### Exemplo:\n"
   ]
  },
  {
   "cell_type": "code",
   "execution_count": 2,
   "id": "aa90fa5a-b0d3-4c96-8a32-b1b35b5bccee",
   "metadata": {},
   "outputs": [
    {
     "name": "stdout",
     "output_type": "stream",
     "text": [
      "Adulto\n"
     ]
    }
   ],
   "source": [
    "idade = 25\n",
    "\n",
    "if idade < 12:                       # Verifica se a idade é menor que 12\n",
    "    print(\"Criança\")                 # Executa se a condição for verdadeira\n",
    "    \n",
    "elif idade < 18:                     # Verifica se a idade está entre 12 e 17\n",
    "    print(\"Adolescente\")             # Executa se a condição for verdadeira\n",
    "    \n",
    "elif idade < 60:                     # Verifica se a idade está entre 18 e 59\n",
    "    print(\"Adulto\")                  # Executa se a condição for verdadeira\n",
    "    \n",
    "else:                                # Captura todas as outras situações\n",
    "    print(\"Idoso\")                   # Executa este bloco se todas as condições anteriores forem falsas\n"
   ]
  },
  {
   "cell_type": "markdown",
   "id": "e09b522e-6f92-4a7d-952f-bb7f45ce44e9",
   "metadata": {},
   "source": [
    "## 🔁 Estrutura de Repetição `for`\n",
    "\n",
    "O laço `for` permite iterar sobre sequências como listas, tuplas, strings ou ranges, executando um bloco de código para cada elemento.  \n",
    "### Exemplo:\n"
   ]
  },
  {
   "cell_type": "code",
   "execution_count": 4,
   "id": "d4ea79fa-5b48-4576-9cb5-ecee2487cfc8",
   "metadata": {},
   "outputs": [
    {
     "name": "stdout",
     "output_type": "stream",
     "text": [
      "maçã\n",
      "banana\n",
      "laranja\n",
      "1\n",
      "2\n",
      "3\n",
      "4\n",
      "5\n"
     ]
    }
   ],
   "source": [
    "\n",
    "# Com lista\n",
    "frutas = [\"maçã\", \"banana\", \"laranja\"]\n",
    "\n",
    "for fruta in frutas:                  # Para cada elemento da lista 'frutas'\n",
    "    print(fruta)                       # Exibe o nome da fruta\n",
    "\n",
    "# Com números usando range\n",
    "for i in range(1, 6):                 # Gera números de 1 a 5\n",
    "    print(i)                           # Exibe cada número\n"
   ]
  },
  {
   "cell_type": "markdown",
   "id": "b8008442-d0cd-45ed-aa11-62955740c626",
   "metadata": {},
   "source": [
    "## 🔁 Laço `while`\n",
    "\n",
    "A estrutura de repetição `while` executa um bloco de código enquanto uma condição for verdadeira.\n",
    "\n",
    "### Exemplo:\n"
   ]
  },
  {
   "cell_type": "code",
   "execution_count": 7,
   "id": "c0aabfef-f8a4-47a7-8b9f-bc3f40f61dca",
   "metadata": {},
   "outputs": [
    {
     "name": "stdout",
     "output_type": "stream",
     "text": [
      "1\n",
      "2\n",
      "3\n",
      "4\n",
      "5\n"
     ]
    }
   ],
   "source": [
    "contador = 1\n",
    "\n",
    "while contador <= 5:                  # Enquanto 'contador' for menor ou igual a 5\n",
    "    print(contador)                   # Exibe o valor atual do contador\n",
    "    contador += 1                     # Incrementa o contador em 1\n"
   ]
  },
  {
   "cell_type": "markdown",
   "id": "214c0a47-bcbd-4e9e-b29b-2a6917ef166d",
   "metadata": {},
   "source": [
    "## ⛔ Comando `break`\n",
    "\n",
    "O comando `break` é usado dentro de laços (`for` ou `while`) para **interromper imediatamente a execução do loop**, mesmo que a condição do laço ainda seja verdadeira.\n",
    "\n",
    "### Exemplo Simples:\n"
   ]
  },
  {
   "cell_type": "code",
   "execution_count": 8,
   "id": "495f5252-8e2c-446b-ad2d-9a6c34c0f469",
   "metadata": {},
   "outputs": [
    {
     "name": "stdout",
     "output_type": "stream",
     "text": [
      "1\n",
      "2\n"
     ]
    }
   ],
   "source": [
    "numeros = [1, 2, 3, 4, 5]\n",
    "\n",
    "for n in numeros:\n",
    "    if n == 3:           # Quando n for igual a 3\n",
    "        break            # Interrompe o laço imediatamente\n",
    "    print(n)             # Exibe os números até 2\n",
    "\n",
    "# Saída:\n",
    "# 1\n",
    "# 2\n"
   ]
  },
  {
   "cell_type": "markdown",
   "id": "2b49e2f6-4065-4372-9978-8584661c65f8",
   "metadata": {},
   "source": [
    "## 🔹 Comando `continue`\n",
    "\n",
    "O comando `continue` é usado dentro de laços (`for` ou `while`) para **pular a iteração atual** e continuar imediatamente para a próxima, sem executar o restante do código dentro do loop para aquela iteração.\n",
    "\n",
    "### Exemplo:\n",
    "\n"
   ]
  },
  {
   "cell_type": "code",
   "execution_count": 9,
   "id": "7aac2b6d-179b-4059-a946-a30c1520de5e",
   "metadata": {},
   "outputs": [
    {
     "name": "stdout",
     "output_type": "stream",
     "text": [
      "1\n",
      "2\n",
      "4\n",
      "5\n"
     ]
    }
   ],
   "source": [
    "numeros = [1, 2, 3, 4, 5]\n",
    "\n",
    "for n in numeros:\n",
    "    if n == 3:          # Quando n for igual a 3\n",
    "        continue        # Pula esta iteração\n",
    "    print(n)            # Exibe todos os números, exceto 3\n",
    "\n",
    "# Saída:\n",
    "# 1\n",
    "# 2\n",
    "# 4\n",
    "# 5"
   ]
  },
  {
   "cell_type": "markdown",
   "id": "ac4a1475-31ae-465e-b7f2-226237a7d622",
   "metadata": {},
   "source": [
    "## 🧘 Comando `pass`\n",
    "\n",
    "O comando `pass` é usado como **um placeholder** em blocos de código que ainda não foram implementados. Ele **não faz nada**, mas permite que o código seja sintaticamente correto.\n",
    "\n",
    "### Exemplo:\n"
   ]
  },
  {
   "cell_type": "code",
   "execution_count": 10,
   "id": "983074b0-4608-47b0-acf5-8c0eeda4f6fb",
   "metadata": {},
   "outputs": [
    {
     "name": "stdout",
     "output_type": "stream",
     "text": [
      "1\n",
      "3\n"
     ]
    }
   ],
   "source": [
    "for n in range(5):\n",
    "    if n % 2 == 0:\n",
    "        pass        # Ainda não implementado para números pares\n",
    "    else:\n",
    "        print(n)    # Exibe apenas os números ímpares\n",
    "\n",
    "# Saída:\n",
    "# 1\n",
    "# 3\n"
   ]
  },
  {
   "cell_type": "markdown",
   "id": "e81444c5-2621-420f-b21c-a2dac491e461",
   "metadata": {},
   "source": [
    "---\n",
    "\n",
    "### 🏁 Conclusão\n",
    "\n",
    "As **estruturas de controle em Python** são fundamentais para definir o fluxo lógico de um programa.  \n",
    "\n",
    "- A instrução `if` permite tomar decisões com base em condições específicas.  \n",
    "- `elif` e `else` complementam o controle condicional, oferecendo alternativas e caminhos padrão.  \n",
    "- Os laços `for` e `while` possibilitam repetir ações de forma eficiente, seja sobre coleções ou enquanto uma condição for verdadeira.  \n",
    "- O uso de `break`, `continue` e `pass` dá mais controle sobre o comportamento dos loops, permitindo interromper, pular ou estruturar o código de forma mais clara.  \n",
    "- Com essas ferramentas, é possível construir algoritmos dinâmicos, adaptáveis e inteligentes.\n"
   ]
  }
 ],
 "metadata": {
  "kernelspec": {
   "display_name": "Python [conda env:base] *",
   "language": "python",
   "name": "conda-base-py"
  },
  "language_info": {
   "codemirror_mode": {
    "name": "ipython",
    "version": 3
   },
   "file_extension": ".py",
   "mimetype": "text/x-python",
   "name": "python",
   "nbconvert_exporter": "python",
   "pygments_lexer": "ipython3",
   "version": "3.12.7"
  }
 },
 "nbformat": 4,
 "nbformat_minor": 5
}
