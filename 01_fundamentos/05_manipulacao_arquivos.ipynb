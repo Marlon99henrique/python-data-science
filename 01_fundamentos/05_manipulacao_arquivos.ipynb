{
 "cells": [
  {
   "cell_type": "markdown",
   "id": "a0d7aa3c-b061-489c-8c48-e83357b2b1d4",
   "metadata": {},
   "source": [
    "# 🗂️ Manipulação de Arquivos em Python\n",
    "\n",
    "> Neste notebook apresento exemplos em:\n",
    "\n",
    "- Ler e escrever arquivos de texto (`.txt`)\n",
    "- Trabalhar com arquivos CSV para armazenamento estruturado de dados\n",
    "- Manipular arquivos JSON para troca de informações em formato padrão\n",
    "\n",
    "---\n",
    "\n",
    "## 📄 Arquivos TXT\n",
    "\n",
    "### Escrita em arquivo TXT\n"
   ]
  },
  {
   "cell_type": "code",
   "execution_count": 1,
   "id": "27f1fc87-3272-4118-93d2-7f7eee54b4d1",
   "metadata": {},
   "outputs": [
    {
     "name": "stdout",
     "output_type": "stream",
     "text": [
      "Arquivo criado com sucesso!\n"
     ]
    }
   ],
   "source": [
    "# Abre/cria um arquivo para escrita\n",
    "with open(\"exemplo.txt\", \"w\") as arquivo:\n",
    "    arquivo.write(\"Olá, mundo!\\n\")\n",
    "    arquivo.write(\"Python é incrível!\")\n",
    "\n",
    "print(\"Arquivo criado com sucesso!\")\n"
   ]
  },
  {
   "cell_type": "markdown",
   "id": "6f7700d7-af6f-453c-af38-bde1cb9eb02d",
   "metadata": {},
   "source": [
    "### Leitura de arquivo TXT"
   ]
  },
  {
   "cell_type": "code",
   "execution_count": 2,
   "id": "39e86d3f-07ad-4516-82de-b578c370fa3a",
   "metadata": {},
   "outputs": [
    {
     "name": "stdout",
     "output_type": "stream",
     "text": [
      "Olá, mundo!\n",
      "Python é incrível!\n"
     ]
    }
   ],
   "source": [
    "# Abre o arquivo para leitura\n",
    "with open(\"exemplo.txt\", \"r\") as arquivo:\n",
    "    conteudo = arquivo.read()       # Lê todo o conteúdo\n",
    "    print(conteudo)\n"
   ]
  },
  {
   "cell_type": "markdown",
   "id": "289182f6-244f-46c7-9090-83aafad6312d",
   "metadata": {},
   "source": [
    "✅ `with open(...) as arquivo:` garante que o arquivo seja fechado automaticamente."
   ]
  },
  {
   "cell_type": "markdown",
   "id": "987c8d71-7202-4add-8015-df5038e9d0e2",
   "metadata": {},
   "source": [
    "---\n",
    "## 📊 Arquivos CSV  \n",
    "O módulo csv permite trabalhar com arquivos separados por vírgula.  \n",
    "### Escrita em CSV"
   ]
  },
  {
   "cell_type": "code",
   "execution_count": 3,
   "id": "baf71b94-ccb8-48a3-879b-40909956aebb",
   "metadata": {},
   "outputs": [
    {
     "name": "stdout",
     "output_type": "stream",
     "text": [
      "CSV criado com sucesso!\n"
     ]
    }
   ],
   "source": [
    "import csv\n",
    "\n",
    "dados = [\n",
    "    [\"Nome\", \"Idade\", \"Cidade\"],\n",
    "    [\"Marlon\", 22, \"São Paulo\"],\n",
    "    [\"Bruna\", 25, \"Rio de Janeiro\"]\n",
    "]\n",
    "\n",
    "with open(\"dados.csv\", \"w\", newline=\"\") as arquivo:\n",
    "    escritor = csv.writer(arquivo)\n",
    "    escritor.writerows(dados)\n",
    "\n",
    "print(\"CSV criado com sucesso!\")\n"
   ]
  },
  {
   "cell_type": "markdown",
   "id": "077c3436-cf4b-4197-86ab-f86937c5b9cf",
   "metadata": {},
   "source": [
    "### Leitura de CSV"
   ]
  },
  {
   "cell_type": "code",
   "execution_count": null,
   "id": "48115ced-265f-46e5-af77-8cee7de7ba9f",
   "metadata": {},
   "outputs": [],
   "source": [
    "with open(\"dados.csv\", \"r\") as arquivo:\n",
    "    leitor = csv.reader(arquivo)\n",
    "    for linha in leitor:\n",
    "        print(linha)\n"
   ]
  },
  {
   "cell_type": "markdown",
   "id": "b4c3531e-ef08-44af-9727-ea065773396d",
   "metadata": {},
   "source": [
    "---\n",
    "## 🔍 Arquivos JSON  \n",
    "O módulo json permite trabalhar com arquivos no formato JSON, ideal para troca de dados estruturados.  \n",
    "### Escrita em JSON"
   ]
  },
  {
   "cell_type": "code",
   "execution_count": 4,
   "id": "6fcf8f4c-58af-4713-b0de-500c44350209",
   "metadata": {},
   "outputs": [
    {
     "name": "stdout",
     "output_type": "stream",
     "text": [
      "JSON criado com sucesso!\n"
     ]
    }
   ],
   "source": [
    "import json\n",
    "\n",
    "dados = {\n",
    "    \"nome\": \"Marlon\",\n",
    "    \"idade\": 22,\n",
    "    \"cidade\": \"São Paulo\"\n",
    "}\n",
    "\n",
    "with open(\"dados.json\", \"w\") as arquivo:\n",
    "    json.dump(dados, arquivo, indent=4)\n",
    "\n",
    "print(\"JSON criado com sucesso!\")\n"
   ]
  },
  {
   "cell_type": "markdown",
   "id": "1bdf2662-d6dd-4a05-9111-3e91bf99b647",
   "metadata": {},
   "source": [
    "### Leitura de JSON"
   ]
  },
  {
   "cell_type": "code",
   "execution_count": 5,
   "id": "979adb77-b0aa-4de3-8e51-f84a0be03846",
   "metadata": {},
   "outputs": [
    {
     "name": "stdout",
     "output_type": "stream",
     "text": [
      "{'nome': 'Marlon', 'idade': 22, 'cidade': 'São Paulo'}\n"
     ]
    }
   ],
   "source": [
    "with open(\"dados.json\", \"r\") as arquivo:\n",
    "    dados_carregados = json.load(arquivo)\n",
    "    print(dados_carregados)\n"
   ]
  },
  {
   "cell_type": "markdown",
   "id": "4a0a1ccb-3051-4ed5-8813-41b0e4ddda34",
   "metadata": {},
   "source": [
    "---\n",
    "## 🏁 Conclusão  \n",
    "- Python oferece maneiras simples de ler e escrever arquivos em diferentes formatos.  \n",
    "- TXT é útil para textos simples, CSV para dados tabulares e JSON para dados estruturados.  \n",
    "- Usar `with open(...)` é recomendado para garantir o fechamento correto dos arquivos."
   ]
  }
 ],
 "metadata": {
  "kernelspec": {
   "display_name": "Python [conda env:base] *",
   "language": "python",
   "name": "conda-base-py"
  },
  "language_info": {
   "codemirror_mode": {
    "name": "ipython",
    "version": 3
   },
   "file_extension": ".py",
   "mimetype": "text/x-python",
   "name": "python",
   "nbconvert_exporter": "python",
   "pygments_lexer": "ipython3",
   "version": "3.12.7"
  }
 },
 "nbformat": 4,
 "nbformat_minor": 5
}
