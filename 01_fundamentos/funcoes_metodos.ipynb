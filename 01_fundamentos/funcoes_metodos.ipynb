{
 "cells": [
  {
   "cell_type": "markdown",
   "id": "5f3f98dc-88e1-4aac-8169-eab4b1893ddc",
   "metadata": {},
   "source": [
    "# 📌 Funções e Métodos em Python — Para Ciência de Dados\n",
    "Este notebook cobre:\n",
    "- Definição de funções\n",
    "- Métodos built-in úteis para dados\n",
    "- Funções lambda\n",
    "- Aplicações em Data Science\n",
    "- Exercício prático\n"
   ]
  },
  {
   "cell_type": "markdown",
   "id": "621da067-4468-4afe-ae79-7d3d7b4c259d",
   "metadata": {},
   "source": [
    "## ✅ 1. Funções Básicas"
   ]
  },
  {
   "cell_type": "code",
   "execution_count": 3,
   "id": "72ca2b7f-b64b-403f-8ae1-f09c7ba0dc3f",
   "metadata": {},
   "outputs": [
    {
     "name": "stdout",
     "output_type": "stream",
     "text": [
      " IMC calculado: 22.86\n"
     ]
    }
   ],
   "source": [
    "# Função para cálculo de IMC (Índice de Massa Corporal)\n",
    "def calcular_imc(peso, altura):\n",
    "    \"\"\"\n",
    "    Calcula o IMC com base no peso e altura.\n",
    "\n",
    "    Args:\n",
    "        peso (float): Peso em kg\n",
    "        altura (float): Altura em metros\n",
    "\n",
    "    Returns:\n",
    "        float: Valor do IMC\n",
    "    \"\"\"\n",
    "    return peso / (altura ** 2)\n",
    "\n",
    "# Chamando a função\n",
    "imc = calcular_imc(70, 1.75)\n",
    "\n",
    "# Exibindo resultado com formatação\n",
    "print(f\" IMC calculado: {imc:.2f}\")"
   ]
  },
  {
   "cell_type": "markdown",
   "id": "38530d19-9b4e-4a62-8542-d4a99f5e6514",
   "metadata": {},
   "source": [
    "## ✅ 2. Métodos Úteis para Dados"
   ]
  },
  {
   "cell_type": "code",
   "execution_count": 4,
   "id": "943ebdb5-1f3d-4729-85c8-1a9acd226289",
   "metadata": {},
   "outputs": [
    {
     "ename": "ValueError",
     "evalue": "could not convert string to float: 'Preço do Produto:  1599.99'",
     "output_type": "error",
     "traceback": [
      "\u001b[1;31m---------------------------------------------------------------------------\u001b[0m",
      "\u001b[1;31mValueError\u001b[0m                                Traceback (most recent call last)",
      "Cell \u001b[1;32mIn[4], line 14\u001b[0m\n\u001b[0;32m      5\u001b[0m texto_limpo \u001b[38;5;241m=\u001b[39m (\n\u001b[0;32m      6\u001b[0m     texto_bruto\n\u001b[0;32m      7\u001b[0m     \u001b[38;5;241m.\u001b[39mstrip()             \u001b[38;5;66;03m# Remove espaços extras\u001b[39;00m\n\u001b[1;32m   (...)\u001b[0m\n\u001b[0;32m     10\u001b[0m     \u001b[38;5;241m.\u001b[39mreplace(\u001b[38;5;124m\"\u001b[39m\u001b[38;5;124m,\u001b[39m\u001b[38;5;124m\"\u001b[39m, \u001b[38;5;124m\"\u001b[39m\u001b[38;5;124m.\u001b[39m\u001b[38;5;124m\"\u001b[39m)   \u001b[38;5;66;03m# Converte vírgula decimal para ponto\u001b[39;00m\n\u001b[0;32m     11\u001b[0m )\n\u001b[0;32m     13\u001b[0m \u001b[38;5;66;03m# Conversão para float\u001b[39;00m\n\u001b[1;32m---> 14\u001b[0m preco \u001b[38;5;241m=\u001b[39m \u001b[38;5;28mfloat\u001b[39m(texto_limpo)\n\u001b[0;32m     16\u001b[0m \u001b[38;5;66;03m# Exibindo resultado\u001b[39;00m\n\u001b[0;32m     17\u001b[0m \u001b[38;5;28mprint\u001b[39m(\u001b[38;5;124mf\u001b[39m\u001b[38;5;124m\"\u001b[39m\u001b[38;5;124m Valor numérico: \u001b[39m\u001b[38;5;132;01m{\u001b[39;00mpreco\u001b[38;5;132;01m:\u001b[39;00m\u001b[38;5;124m.2f\u001b[39m\u001b[38;5;132;01m}\u001b[39;00m\u001b[38;5;124m\"\u001b[39m)\n",
      "\u001b[1;31mValueError\u001b[0m: could not convert string to float: 'Preço do Produto:  1599.99'"
     ]
    }
   ],
   "source": [
    "# Exemplo com métodos de string — limpeza de dados textuais\n",
    "texto_bruto = \"  Preço do Produto: R$ 1.599,99  \"\n",
    "\n",
    "# Cadeia de métodos para limpar e converter o valor\n",
    "texto_limpo = (\n",
    "    texto_bruto\n",
    "    .strip()             # Remove espaços extras\n",
    "    .replace(\"R$\", \"\")   # Remove símbolo de moeda\n",
    "    .replace(\".\", \"\")    # Remove separador de milhar\n",
    "    .replace(\",\", \".\")   # Converte vírgula decimal para ponto\n",
    ")\n",
    "\n",
    "# Conversão para float\n",
    "preco = float(texto_limpo)\n",
    "\n",
    "# Exibindo resultado\n",
    "print(f\" Valor numérico: {preco:.2f}\")"
   ]
  },
  {
   "cell_type": "markdown",
   "id": "8e559443-6246-4f11-bcbf-073908eb2805",
   "metadata": {},
   "source": [
    "## ✅ 3. Funções Lambda (Úteis para Pandas)"
   ]
  },
  {
   "cell_type": "code",
   "execution_count": 5,
   "id": "5fc64bc1-a59c-4226-b617-b153dd356974",
   "metadata": {},
   "outputs": [
    {
     "name": "stdout",
     "output_type": "stream",
     "text": [
      " Valores originais: [10, 20, 30, 40]\n",
      " Valores dobrados: [20, 40, 60, 80]\n",
      " Valores > 25: [30, 40]\n"
     ]
    }
   ],
   "source": [
    "# Lista de valores\n",
    "valores = [10, 20, 30, 40]\n",
    "\n",
    "# Aplicando lambda com map — dobra os valores\n",
    "valores_dobro = list(map(lambda x: x * 2, valores))\n",
    "\n",
    "# Aplicando lambda com filter — filtra valores maiores que 25\n",
    "valores_filtrados = list(filter(lambda x: x > 25, valores))\n",
    "\n",
    "# Exibindo resultados\n",
    "print(f\" Valores originais: {valores}\")\n",
    "print(f\" Valores dobrados: {valores_dobro}\")\n",
    "print(f\" Valores > 25: {valores_filtrados}\")"
   ]
  },
  {
   "cell_type": "markdown",
   "id": "330387fc-0f92-4e51-bdb3-814386195e7c",
   "metadata": {},
   "source": [
    "## ✅ 4. Aplicação em Data Science"
   ]
  },
  {
   "cell_type": "code",
   "execution_count": null,
   "id": "60c12a91-6055-436b-9a2c-6fc30de13528",
   "metadata": {},
   "outputs": [],
   "source": [
    "import pandas as pd\n",
    "\n",
    "# Criando DataFrame de exemplo\n",
    "dados = {\n",
    "    \"Produto\": [\"Notebook\", \"Mouse\", \"Teclado\"],\n",
    "    \"Preço\": [3599.90, 89.90, 199.90],\n",
    "    \"Estoque\": [10, 45, 20]\n",
    "}\n",
    "df = pd.DataFrame(dados)\n",
    "\n",
    "# Função para aplicar desconto\n",
    "def aplicar_desconto(preco, desconto=0.1):\n",
    "    \"\"\"\n",
    "    Aplica desconto percentual ao preço.\n",
    "\n",
    "    Args:\n",
    "        preco (float): Valor original\n",
    "        desconto (float): Percentual de desconto (default 10%)\n",
    "\n",
    "    Returns:\n",
    "        float: Valor com desconto\n",
    "    \"\"\"\n",
    "    return preco * (1 - desconto)\n",
    "\n",
    "# Aplicando função no DataFrame\n",
    "df[\"Preço com Desconto\"] = df[\"Preço\"].apply(aplicar_desconto)\n",
    "\n",
    "# Exibindo resultado\n",
    "print(\"📦 DataFrame com desconto aplicado:\")\n",
    "print(df[[\"Produto\", \"Preço\", \"Preço com Desconto\"]])"
   ]
  },
  {
   "cell_type": "markdown",
   "id": "054fd441-9add-4dfa-a0de-2a195952340f",
   "metadata": {},
   "source": [
    "## ✅ 5. Exercício Prático"
   ]
  },
  {
   "cell_type": "code",
   "execution_count": 6,
   "id": "1589b1f1-6519-42a5-9d87-c02e31e25856",
   "metadata": {},
   "outputs": [
    {
     "name": "stdout",
     "output_type": "stream",
     "text": [
      " Estatísticas básicas:\n",
      "Média     : 25.0\n",
      "Soma      : 100\n",
      "Maior     : 40\n",
      "Menor     : 10\n"
     ]
    }
   ],
   "source": [
    "# Função que retorna estatísticas básicas de uma lista\n",
    "def estatisticas_basicas(valores):\n",
    "    \"\"\"\n",
    "    Calcula estatísticas básicas de uma lista de números.\n",
    "\n",
    "    Args:\n",
    "        valores (list): Lista de valores numéricos\n",
    "\n",
    "    Returns:\n",
    "        dict: Dicionário com média, soma, maior e menor valor\n",
    "    \"\"\"\n",
    "    return {\n",
    "        \"média\": sum(valores) / len(valores),\n",
    "        \"soma\": sum(valores),\n",
    "        \"maior\": max(valores),\n",
    "        \"menor\": min(valores)\n",
    "    }\n",
    "\n",
    "# Testando a função\n",
    "resultado = estatisticas_basicas([10, 20, 30, 40])\n",
    "\n",
    "# Exibindo resultado formatado\n",
    "print(\" Estatísticas básicas:\")\n",
    "for chave, valor in resultado.items():\n",
    "    print(f\"{chave.capitalize():<10}: {valor}\")"
   ]
  },
  {
   "cell_type": "code",
   "execution_count": null,
   "id": "c2ca9322-7f8a-412a-95a8-1bf8cfc6b499",
   "metadata": {},
   "outputs": [],
   "source": []
  },
  {
   "cell_type": "code",
   "execution_count": null,
   "id": "a1865cf1-91cc-4543-ba49-f400cd0138ba",
   "metadata": {},
   "outputs": [],
   "source": []
  },
  {
   "cell_type": "code",
   "execution_count": null,
   "id": "9e726c33-ac25-4af7-ab4d-d7fc2b96fb40",
   "metadata": {},
   "outputs": [],
   "source": []
  }
 ],
 "metadata": {
  "kernelspec": {
   "display_name": "Python [conda env:base] *",
   "language": "python",
   "name": "conda-base-py"
  },
  "language_info": {
   "codemirror_mode": {
    "name": "ipython",
    "version": 3
   },
   "file_extension": ".py",
   "mimetype": "text/x-python",
   "name": "python",
   "nbconvert_exporter": "python",
   "pygments_lexer": "ipython3",
   "version": "3.12.7"
  }
 },
 "nbformat": 4,
 "nbformat_minor": 5
}
