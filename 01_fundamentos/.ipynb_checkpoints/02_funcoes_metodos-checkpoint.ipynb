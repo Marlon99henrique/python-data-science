{
 "cells": [
  {
   "cell_type": "markdown",
   "id": "f1a4d4b2-d0bb-4782-83b8-530c841c623c",
   "metadata": {},
   "source": [
    "# 📌 Funções e Métodos em Python para Ciência de Dados\n",
    "\n",
    "  \n",
    "Neste notebook, exploramos funções, métodos e técnicas de manipulação de dados em Python, com foco em aplicações práticas para Ciência de Dados.  \n",
    "O conteúdo é aplicável para análise exploratória, limpeza de dados e preparação de datasets para modelagem.\n",
    "\n",
    "**Objetivos:**\n",
    "1. Criar funções reutilizáveis para análise de dados\n",
    "2. Aplicar métodos nativos para limpeza e transformação de dados\n",
    "3. Usar funções `lambda` em Pandas para manipulação de colunas\n"
   ]
  },
  {
   "cell_type": "markdown",
   "id": "fb06c513-4bd9-44f4-82bf-955df4005288",
   "metadata": {},
   "source": [
    "## 1. Funções \n",
    "Exemplo: função para análise de métricas de vendas"
   ]
  },
  {
   "cell_type": "code",
   "execution_count": 5,
   "id": "92e99b06-a8ea-4061-b0df-7c5651131bb3",
   "metadata": {},
   "outputs": [
    {
     "data": {
      "text/plain": [
       "{'total': 730, 'media': 182.5, 'max': 300, 'min': 80}"
      ]
     },
     "execution_count": 5,
     "metadata": {},
     "output_type": "execute_result"
    }
   ],
   "source": [
    "\n",
    "def calcular_estatisticas(vendas):\n",
    "    \"\"\"\n",
    "    Calcula métricas básicas de vendas\n",
    "    \n",
    "    Args:\n",
    "        vendas (list): Lista de valores de venda\n",
    "        \n",
    "    Returns:\n",
    "        dict: Dicionário com métricas\n",
    "    \"\"\"\n",
    "    return {\n",
    "        \"total\": sum(vendas),\n",
    "        \"media\": sum(vendas)/len(vendas),\n",
    "        \"max\": max(vendas),\n",
    "        \"min\": min(vendas)\n",
    "    }\n",
    "\n",
    "# Testando\n",
    "vendas_diarias = [150, 200, 80, 300]\n",
    "calcular_estatisticas(vendas_diarias)"
   ]
  },
  {
   "cell_type": "markdown",
   "id": "fe149e7d-4a36-410c-96c5-0e487bb4f3d5",
   "metadata": {},
   "source": [
    "## 2. Métodos para Limpeza de Dados  \n",
    "Exemplo de limpeza de dados textuais:"
   ]
  },
  {
   "cell_type": "code",
   "execution_count": 6,
   "id": "ba72fab3-0f44-4bd8-aba5-a5b1e579ebc9",
   "metadata": {},
   "outputs": [
    {
     "name": "stdout",
     "output_type": "stream",
     "text": [
      "Valor convertido: 1234.56\n"
     ]
    }
   ],
   "source": [
    "texto_bruto = \"  RELATÓRIO: Vendas R$ 1.234,56  \"\n",
    "\n",
    "valor_limpo = (\n",
    "    texto_bruto\n",
    "    .strip()               # Remove espaços\n",
    "    .split(\"R$\")[-1]       # Pega texto após \"R$\"\n",
    "    .strip()\n",
    "    .replace(\".\", \"\")      # Remove pontos\n",
    "    .replace(\",\", \".\")     # Substitui vírgula\n",
    ")\n",
    "\n",
    "valor_numerico = float(valor_limpo)\n",
    "print(f\"Valor convertido: {valor_numerico:.2f}\")\n"
   ]
  },
  {
   "cell_type": "markdown",
   "id": "40fc5217-b1f7-4f5c-9be4-ead695f5523d",
   "metadata": {},
   "source": [
    "## 3. Lambda + Pandas (Aplicação Real)"
   ]
  },
  {
   "cell_type": "code",
   "execution_count": 7,
   "id": "a80dece3-8d25-46f4-b1ae-1a67ffb286f1",
   "metadata": {},
   "outputs": [
    {
     "data": {
      "text/html": [
       "<div>\n",
       "<style scoped>\n",
       "    .dataframe tbody tr th:only-of-type {\n",
       "        vertical-align: middle;\n",
       "    }\n",
       "\n",
       "    .dataframe tbody tr th {\n",
       "        vertical-align: top;\n",
       "    }\n",
       "\n",
       "    .dataframe thead th {\n",
       "        text-align: right;\n",
       "    }\n",
       "</style>\n",
       "<table border=\"1\" class=\"dataframe\">\n",
       "  <thead>\n",
       "    <tr style=\"text-align: right;\">\n",
       "      <th></th>\n",
       "      <th>produto</th>\n",
       "      <th>preco</th>\n",
       "      <th>frete</th>\n",
       "      <th>preco_final</th>\n",
       "      <th>preco_com_desconto</th>\n",
       "    </tr>\n",
       "  </thead>\n",
       "  <tbody>\n",
       "    <tr>\n",
       "      <th>0</th>\n",
       "      <td>Notebook</td>\n",
       "      <td>4250.9</td>\n",
       "      <td>50</td>\n",
       "      <td>4300.9</td>\n",
       "      <td>3870.81</td>\n",
       "    </tr>\n",
       "    <tr>\n",
       "      <th>1</th>\n",
       "      <td>Mouse</td>\n",
       "      <td>89.9</td>\n",
       "      <td>15</td>\n",
       "      <td>104.9</td>\n",
       "      <td>94.41</td>\n",
       "    </tr>\n",
       "    <tr>\n",
       "      <th>2</th>\n",
       "      <td>Teclado</td>\n",
       "      <td>199.9</td>\n",
       "      <td>20</td>\n",
       "      <td>219.9</td>\n",
       "      <td>197.91</td>\n",
       "    </tr>\n",
       "  </tbody>\n",
       "</table>\n",
       "</div>"
      ],
      "text/plain": [
       "    produto   preco  frete  preco_final  preco_com_desconto\n",
       "0  Notebook  4250.9     50       4300.9             3870.81\n",
       "1     Mouse    89.9     15        104.9               94.41\n",
       "2   Teclado   199.9     20        219.9              197.91"
      ]
     },
     "execution_count": 7,
     "metadata": {},
     "output_type": "execute_result"
    }
   ],
   "source": [
    "import pandas as pd\n",
    "\n",
    "# DataFrame de exemplo\n",
    "dados = {\n",
    "    \"produto\": [\"Notebook\", \"Mouse\", \"Teclado\"],\n",
    "    \"preco\": [4250.90, 89.90, 199.90],\n",
    "    \"frete\": [50, 15, 20]\n",
    "}\n",
    "df = pd.DataFrame(dados)\n",
    "\n",
    "# Preço final usando lambda\n",
    "df[\"preco_final\"] = df.apply(lambda linha: linha[\"preco\"] + linha[\"frete\"], axis=1)\n",
    "\n",
    "# Função para aplicar desconto condicional\n",
    "def aplicar_desconto(valor):\n",
    "    return valor * 0.9 if valor > 100 else valor\n",
    "\n",
    "df[\"preco_com_desconto\"] = df[\"preco_final\"].apply(aplicar_desconto)\n",
    "df\n"
   ]
  }
 ],
 "metadata": {
  "kernelspec": {
   "display_name": "Python [conda env:base] *",
   "language": "python",
   "name": "conda-base-py"
  },
  "language_info": {
   "codemirror_mode": {
    "name": "ipython",
    "version": 3
   },
   "file_extension": ".py",
   "mimetype": "text/x-python",
   "name": "python",
   "nbconvert_exporter": "python",
   "pygments_lexer": "ipython3",
   "version": "3.12.7"
  }
 },
 "nbformat": 4,
 "nbformat_minor": 5
}
