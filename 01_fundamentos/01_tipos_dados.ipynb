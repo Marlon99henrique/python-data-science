{
 "cells": [
  {
   "cell_type": "markdown",
   "id": "8ec39b6a-c6bc-4010-a625-dfbf563b16d3",
   "metadata": {},
   "source": [
    "# 🧮 Fundamentos: Tipos de Dados em Python\n",
    "\n",
    "Python possui diversos tipos de dados nativos que são essenciais para qualquer programa. Neste notebook, vamos explorar os principais:\n",
    "\n",
    "- `int` → números inteiros\n",
    "- `float` → números decimais\n",
    "- `str` → cadeias de caracteres (texto)\n",
    "- `bool` → valores booleanos (True ou False)\n",
    "- Conversões entre tipos\n",
    "\n",
    "---\n",
    "\n",
    "## 🔢 Inteiros (`int`)\n",
    "Números inteiros (`int`) são valores sem parte decimal, podendo ser positivos, negativos ou zero. São usados para contagem, índices, cálculos discretos e muito mais.\n",
    "\n",
    "\n",
    "\n"
   ]
  },
  {
   "cell_type": "code",
   "execution_count": 3,
   "id": "1bbb66a9-7b37-4d9f-ac2c-d965fd80f55a",
   "metadata": {},
   "outputs": [
    {
     "name": "stdout",
     "output_type": "stream",
     "text": [
      "<class 'int'>\n"
     ]
    }
   ],
   "source": [
    "idade = 30\n",
    "ano = 2025\n",
    "print(type(idade))  # <class 'int'>"
   ]
  },
  {
   "cell_type": "markdown",
   "id": "2b5402c0-702d-4828-af2b-21102319d1a6",
   "metadata": {},
   "source": [
    "## 🔣 Decimais (`float`)\n",
    "Números de ponto flutuante (`float`) representam valores com casas decimais. São usados para medições, cálculos precisos e situações em que números inteiros não são suficientes.\n"
   ]
  },
  {
   "cell_type": "code",
   "execution_count": 1,
   "id": "bbe0b06e-365c-4003-94d8-a07916de1555",
   "metadata": {},
   "outputs": [
    {
     "name": "stdout",
     "output_type": "stream",
     "text": [
      "<class 'float'>\n"
     ]
    }
   ],
   "source": [
    "altura = 1.75\n",
    "pi = 3.14159\n",
    "print(type(pi))  # <class 'float'>\n"
   ]
  },
  {
   "cell_type": "markdown",
   "id": "a83c5f53-9c82-44a5-820e-36d3ae10f001",
   "metadata": {},
   "source": [
    "## 📝 Texto (str)\n",
    "Strings `(str)` são sequências de caracteres, que podem representar palavras, frases ou qualquer tipo de texto.\n"
   ]
  },
  {
   "cell_type": "code",
   "execution_count": 2,
   "id": "6e6926f3-5981-412e-8bca-3d6b2531558b",
   "metadata": {},
   "outputs": [
    {
     "name": "stdout",
     "output_type": "stream",
     "text": [
      "<class 'str'>\n"
     ]
    }
   ],
   "source": [
    "nome = \"Marlon\"\n",
    "mensagem = 'Olá, mundo!'\n",
    "print(type(nome))  # <class 'str'>"
   ]
  },
  {
   "cell_type": "markdown",
   "id": "2b869f37-384e-4c64-9902-86ae652b70c8",
   "metadata": {},
   "source": [
    "Você pode usar aspas simples `'texto'` ou duplas `\"texto\".`"
   ]
  },
  {
   "cell_type": "markdown",
   "id": "4b931d19-50b2-49ef-a934-a838c9c02f8a",
   "metadata": {},
   "source": [
    "## ✅ Booleanos (`bool`)\n",
    "Representam valores lógicos: **True** (verdadeiro) ou **False** (falso).  \n",
    "Muito usados em condições, comparações e tomadas de decisão no código.\n"
   ]
  },
  {
   "cell_type": "code",
   "execution_count": 4,
   "id": "89e65304-60f4-427d-be40-45564190f523",
   "metadata": {},
   "outputs": [
    {
     "name": "stdout",
     "output_type": "stream",
     "text": [
      "<class 'bool'>\n"
     ]
    }
   ],
   "source": [
    "ligado = True\n",
    "desligado = False\n",
    "print(type(ligado))  # <class 'bool'>\n"
   ]
  },
  {
   "cell_type": "markdown",
   "id": "2b7e40f0-9b91-44d9-ae30-bd3aed2e2928",
   "metadata": {},
   "source": [
    "## 🔄 Conversão de Tipos\n",
    "Python permite **converter valores entre diferentes tipos** usando funções específicas:\n",
    "\n",
    "- `int()` → converte para inteiro  \n",
    "- `float()` → converte para decimal (ponto flutuante)  \n",
    "- `str()` → converte para string (texto)  \n",
    "- `bool()` → converte para booleano (True ou False)  \n",
    "\n",
    "Exemplo:  \n"
   ]
  },
  {
   "cell_type": "code",
   "execution_count": 6,
   "id": "f8ce7585-99ee-4e41-be1b-05859c714a66",
   "metadata": {},
   "outputs": [],
   "source": [
    "num = int(\"10\")       # string \"10\" vira inteiro 10\n",
    "valor = float(5)      # inteiro 5 vira 5.0\n",
    "texto = str(3.14)     # float 3.14 vira string \"3.14\"\n",
    "flag = bool(0)        # 0 vira False\n"
   ]
  },
  {
   "cell_type": "markdown",
   "id": "9b5397c5-33f8-4078-ba79-5ef4e93af461",
   "metadata": {},
   "source": [
    "## 🧪 Operações com Tipos\n",
    "\n",
    "Cada tipo de dado em Python possui **operações específicas** que podem ser realizadas:\n",
    "\n",
    "### 🔢 Números (`int`, `float`)\n",
    "- Aritméticas: `+`, `-`, `*`, `/`, `//`, `%`, `**`\n",
    "#### Exemplo:\n",
    "\n"
   ]
  },
  {
   "cell_type": "code",
   "execution_count": 10,
   "id": "8edbd3c6-5634-4f3f-ab32-fe660f92ee05",
   "metadata": {},
   "outputs": [
    {
     "name": "stdout",
     "output_type": "stream",
     "text": [
      "13\n",
      "3.3333333333333335\n",
      "3\n",
      "1000\n"
     ]
    }
   ],
   "source": [
    "a = 10\n",
    "b = 3\n",
    "\n",
    "print(a + b)  # Soma: 10 + 3 = 13\n",
    "print(a / b)  # Divisão normal: 10 / 3 ≈ 3.3333...\n",
    "print(a // b) # Divisão inteira (floor): 10 // 3 = 3\n",
    "print(a ** b) # Potência: 10 elevado a 3 = 1000\n"
   ]
  },
  {
   "cell_type": "markdown",
   "id": "8c82196e-a633-4085-a439-9c69346f064c",
   "metadata": {},
   "source": [
    "### 🔤 Strings (`str`)  \n",
    "- Concatenação: `+` \n",
    "- Repetição: `*`  \n",
    "- Indexação e fatiamento: `[]`   \n",
    "#### Exemplo:"
   ]
  },
  {
   "cell_type": "code",
   "execution_count": 12,
   "id": "5f1a9975-55cd-4f49-8c7a-b146d359c866",
   "metadata": {},
   "outputs": [
    {
     "name": "stdout",
     "output_type": "stream",
     "text": [
      "Python é legal\n",
      "PythonPythonPython\n",
      "Pyth\n"
     ]
    }
   ],
   "source": [
    "texto = \"Python\"\n",
    "\n",
    "print(texto + \" é legal\")   # Concatenação: junta duas strings → \"Python é legal\"\n",
    "print(texto * 3)            # Repetição: repete a string 3 vezes → \"PythonPythonPython\"\n",
    "print(texto[0:4])           # Fatiamento (slicing): pega os caracteres do índice 0 ao 3 → \"Pyth\"\n",
    "\n"
   ]
  },
  {
   "cell_type": "markdown",
   "id": "7c8b8a93-f409-49c3-9243-7181dd07cdaa",
   "metadata": {},
   "source": [
    "### ✅ Booleanos (`bool`)  \n",
    "- Operadores lógicos: `and`, `or`, `not`  \n",
    "#### Exemplo:"
   ]
  },
  {
   "cell_type": "code",
   "execution_count": 13,
   "id": "c8274d3f-d7d9-4fc0-b8f9-8c122d3c346a",
   "metadata": {},
   "outputs": [
    {
     "name": "stdout",
     "output_type": "stream",
     "text": [
      "False\n",
      "True\n",
      "False\n"
     ]
    }
   ],
   "source": [
    "x = True\n",
    "y = False\n",
    "\n",
    "print(x and y)  # E lógico (AND): True somente se ambos forem True → False\n",
    "print(x or y)   # OU lógico (OR): True se pelo menos um for True → True\n",
    "print(not x)    # Negação lógica (NOT): inverte o valor → False\n"
   ]
  },
  {
   "cell_type": "markdown",
   "id": "5c8d2f60-fa5e-4936-bc6c-a29332725e7f",
   "metadata": {},
   "source": [
    "## 📌 Conclusão\n",
    "Dominar os tipos de dados é essencial para manipular informações corretamente em Python. Eles são a base para estruturas mais complexas como listas, dicionários e funções."
   ]
  }
 ],
 "metadata": {
  "kernelspec": {
   "display_name": "Python [conda env:base] *",
   "language": "python",
   "name": "conda-base-py"
  },
  "language_info": {
   "codemirror_mode": {
    "name": "ipython",
    "version": 3
   },
   "file_extension": ".py",
   "mimetype": "text/x-python",
   "name": "python",
   "nbconvert_exporter": "python",
   "pygments_lexer": "ipython3",
   "version": "3.12.7"
  }
 },
 "nbformat": 4,
 "nbformat_minor": 5
}
